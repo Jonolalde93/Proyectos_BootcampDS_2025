{
  "cells": [
    {
      "attachments": {},
      "cell_type": "markdown",
      "metadata": {
        "id": "AY6Q1wDJUobm"
      },
      "source": [
        "<h1><center>Examen Ramp Up 2025</center></h1>\n",
        "\n",
        "<h3>Ejercicio 1</h3>\n",
        "\n",
        "Diseñar una función que reciba varios argumentos (Pan = 2, Yogur = 6) o un diccionario con la compra realizada ({\"Pan\": 2,\"Yogur\": 6}) y calcule el importe total de la compra teniendo en cuenta los descuentos (porcentaje en formato unitario) impuesto por el comercio. A continuación, tenéis disponible la información sobre los productos que tiene el comercio, además de sus precios y descuentos (porcentaje en formato unitario) respectivamente. \n",
        "\n",
        "| **Producto** | **Precio** | **Descuento** |\n",
        "|:--------------:|:------------:|:---------------:|\n",
        "|Pan | 1.20 | 0.10 |\n",
        "|Yogur | 0.30 | 0.00 |\n",
        "|Lejia | 2.80 | 0.15 |\n",
        "|Leche | 0.87 | 0.05 |\n",
        "|Huevo | 0.17 | 0.20 |\n",
        "|Harina | 1.03 | 0.05 |\n",
        "|Detergente | 3.15 | 0.10 |\n",
        "|Gel | 4.19 | 0.00 |\n",
        "\n",
        "* Ejemplo:\n",
        "    * Entrada: {‘Pan’: 2,‘Yogur’: 6}.\n",
        "    * Salida: 3,96.\n",
        "\n",
        "Si veis que se os complica, centraros en la lógica pura sin encapsularlo en una función. Podéis crear una clase Tienda también, con un método asociado a una función que contenga la información necesaria, lo que más sencillo os resulte. Centraros sobre todo en emplear las estructuras que vimos en clase y elegid la que más os convenga."
      ]
    },
    {
      "cell_type": "code",
      "execution_count": null,
      "metadata": {},
      "outputs": [],
      "source": [
        "def calculo_compra(**productos): #Con el doble asterisco podemos manejar los argumentos como un diccionario\n",
        "    dict_compra = {**productos} #Almacenamos los argumentos en un diccionaro\n",
        "    precios = [1.20,0.30,2.80,0.87,0.17,1.03,3.15,4.19] #Lista con los precios correspondientes en orden\n",
        "    descuentos = [0.1,0,0.15,0.05,0.20,0.05,0.10,0] #Lista con los descuentos correspondientes al precio \n",
        "    importe = 0\n",
        "    for keys, values in dict_compra.items(): #Para cada clave va a chequear el producto para aplicar el descuento correspondiente en base a su precio y cantidad correspondiente\n",
        "        if keys == \"Pan\":\n",
        "            importe += values*precios[0] - descuentos[0]*values\n",
        "        if keys == \"Yogur\":\n",
        "            importe += values*precios[1] - descuentos[1]*values\n",
        "        if keys == \"Lejia\":\n",
        "            importe += values*precios[2] - descuentos[2]*values\n",
        "        if keys == \"Leche\":\n",
        "            importe += values*precios[3] - descuentos[3]*values\n",
        "        if keys == \"Huevo\":\n",
        "            importe += values*precios[4] - descuentos[4]*values\n",
        "        if keys == \"Harina\":\n",
        "            importe += values*precios[5] - descuentos[5]*values\n",
        "        if keys == \"Detergente\":\n",
        "            importe += values*precios[6] - descuentos[6]*values\n",
        "        if keys == \"Gel\":\n",
        "            importe += values*precios[7] - descuentos[7]*values\n",
        "    return importe\n",
        "    \n",
        "    "
      ]
    },
    {
      "cell_type": "code",
      "execution_count": 154,
      "metadata": {},
      "outputs": [
        {
          "data": {
            "text/plain": [
              "3.9999999999999996"
            ]
          },
          "execution_count": 154,
          "metadata": {},
          "output_type": "execute_result"
        }
      ],
      "source": [
        "calculo_compra(Pan=2,Yogur=6)"
      ]
    },
    {
      "attachments": {},
      "cell_type": "markdown",
      "metadata": {
        "id": "LaFJoGKaUobv"
      },
      "source": [
        "<h3>Ejercicio 2</h3>\n",
        "\n",
        "Desarrollar una función que reciba una lista de números enteros positivos y devuelva una lista de diccionarios, en la que cada diccionario indicará el número de cifras pares e impares.\n",
        "\n",
        "* Ejemplo:\n",
        "    * Entrada: [124, 8771].\n",
        "    * Salida: [{\"Pares\" : 2,\"Impares\" : 1}, {\"Pares\" : 1, \"Impares\" : 3}].\n",
        "\n",
        "Empezad con un ejemplo sencillo, dada una cifra obtener los números pares e impares, podéis imprimir por pantalla y a partir de ahí construid una respuesta más compleja (el diccionario en nuestro caso), finalmente encapsulándolo en una función."
      ]
    },
    {
      "cell_type": "code",
      "execution_count": null,
      "metadata": {},
      "outputs": [],
      "source": [
        "def diccionum(*numeros):\n",
        "        listadic =[] \n",
        "        for digito in numeros:\n",
        "            dictnum ={\"Pares\":0 ,\"Impares\": 0}\n",
        "            for i in str(digito): #Convertimos cada digito en un string para poder trabajar con el por medio de su indice\n",
        "                if int(i) %2 == 0: #Lo reconvertimos en un numero entero para comprobar si el residuo de la division es 0 indicando asi que es divisible por 2 y por lo tanto siendo par\n",
        "                    dictnum[\"Pares\"] +=1\n",
        "                else:\n",
        "                    dictnum[\"Impares\"] +=1\n",
        "            listadic.append(dictnum)\n",
        "        return listadic\n",
        "                "
      ]
    },
    {
      "cell_type": "code",
      "execution_count": 302,
      "metadata": {},
      "outputs": [
        {
          "data": {
            "text/plain": [
              "[{'Pares': 0, 'Impares': 2}, {'Pares': 2, 'Impares': 1}]"
            ]
          },
          "execution_count": 302,
          "metadata": {},
          "output_type": "execute_result"
        }
      ],
      "source": [
        "diccionum(33,445)"
      ]
    },
    {
      "attachments": {},
      "cell_type": "markdown",
      "metadata": {},
      "source": [
        "<h3>Ejercicio 3</h3>\n",
        "\n",
        "Diseñar una función que reciba argumentos como prendas y sus precios y devuelve un diccionario con el top 3 (las tres prendas más caras). Podéis trabajar con un diccionario como entrada también donde los datos sean el producto como clave y precio como valor.\n",
        "\n",
        "* Ejemplo:\n",
        "    * input: {'camisa': 45.50, 'pantalones':35, 'camiseta': 41.30, 'abrigo':55, 'calcetines': 24}.\n",
        "    * output: {'abrigo':55,'camisa': 45.50, 'camiseta': 41.30}.\n",
        "\n",
        "Podéis obtener los valores del diccionario, ordenarlos del más caro al más barato y mirar que palabras clave en el diccionario original presentan los valores en las primeras tres posiciones."
      ]
    },
    {
      "cell_type": "code",
      "execution_count": null,
      "metadata": {},
      "outputs": [],
      "source": [
        "import operator #El modulo lo he encontrado en esta pag: https://www.w3resource.com/python-exercises/dictionary/python-data-type-dictionary-exercise-1.php\n",
        "\n",
        "def prendas(**elementos):\n",
        "    dict1 = {**elementos}\n",
        "    dict_clone = dict(sorted(dict1.items(), key=operator.itemgetter(1), reverse = True)) # Accede a los elementos del diccionario 1, los ordena de mayor a menor en base al segundo elemento de la tupla que se forma usanfo \"key=operator.itemgetter(1)\"\" y lo vuelve a convertir en un diccionario\n",
        "    while len(dict_clone) > 3: # Mientras la longitud del diccionario sea mayor que 3 vamos a eliminar el ultimo elemento\n",
        "        dict_clone.popitem()\n",
        "    return dict_clone"
      ]
    },
    {
      "cell_type": "code",
      "execution_count": 231,
      "metadata": {},
      "outputs": [
        {
          "data": {
            "text/plain": [
              "{'blazer': 70, 'zapatos': 55, 'camisa': 45}"
            ]
          },
          "execution_count": 231,
          "metadata": {},
          "output_type": "execute_result"
        }
      ],
      "source": [
        "prendas(camisa=45,falda=30,blazer=70,zapatos=55,corbata=35)"
      ]
    },
    {
      "cell_type": "markdown",
      "metadata": {},
      "source": [
        "<h3>Ejercicio 4</h3>\n",
        "\n",
        "Diseñad una función que pida al usuario una dirección y sea capaz de extraer de cuantas palabras está compuesta y cuantos de los campos hacen referencia a números.\n",
        "\n",
        "* Ejemplo:\n",
        "    * input: _Urazurrutia Kalea, 3, Ibaiondo, 48003 Bilbo, Bizkaia_\n",
        "    * output: _La dirección está compuesta por 7 palabras de las cuales 2 son números._\n",
        "\n",
        "Tened cuidado con los signos de puntuación ( , . ) y en caso de tener campos compuestos ( 2A, 2ªDrch ) podéis asumirlos como palabra y no número. Mirad si el objeto str (string) tiene algún método que os pueda ayudar a identificar si una palabra es considerada un número si todos sus caracteres son numéricos."
      ]
    },
    {
      "cell_type": "code",
      "execution_count": null,
      "metadata": {},
      "outputs": [],
      "source": [
        "def contadireccion(direccion):\n",
        "    listapal = direccion.split() #Spliteamos el string para obtener los elementos \n",
        "    contapal = len(listapal) #Contamos la longitud de la nueva lista con los elementos separados\n",
        "    contanum = 0\n",
        "    for i in listapal:\n",
        "        if i.isdigit(): #Chequeamos si cada elemento en la lista es un numero\n",
        "            contanum += 1\n",
        "    return f\"La direccion esta compuesta por {contapal} palabras y {contanum} numeros\"\n",
        "        "
      ]
    },
    {
      "cell_type": "code",
      "execution_count": 378,
      "metadata": {},
      "outputs": [
        {
          "data": {
            "text/plain": [
              "'La direccion esta compuesta por 7 palabras y 1 numeros'"
            ]
          },
          "execution_count": 378,
          "metadata": {},
          "output_type": "execute_result"
        }
      ],
      "source": [
        "contadireccion(\"Calle Ercilla 34, 5ºA, 48011 Bilbao, Bizkaia\")"
      ]
    }
  ],
  "metadata": {
    "colab": {
      "provenance": []
    },
    "kernelspec": {
      "display_name": "Python 3",
      "language": "python",
      "name": "python3"
    },
    "language_info": {
      "codemirror_mode": {
        "name": "ipython",
        "version": 3
      },
      "file_extension": ".py",
      "mimetype": "text/x-python",
      "name": "python",
      "nbconvert_exporter": "python",
      "pygments_lexer": "ipython3",
      "version": "3.13.2"
    }
  },
  "nbformat": 4,
  "nbformat_minor": 0
}
