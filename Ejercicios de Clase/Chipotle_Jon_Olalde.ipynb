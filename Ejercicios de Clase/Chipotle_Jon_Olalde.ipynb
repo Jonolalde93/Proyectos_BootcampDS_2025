{
 "cells": [
  {
   "attachments": {},
   "cell_type": "markdown",
   "metadata": {},
   "source": [
    "Importamos las librerías Pandas y Numpy"
   ]
  },
  {
   "cell_type": "code",
   "execution_count": 120,
   "metadata": {},
   "outputs": [],
   "source": [
    "import pandas as pd\n",
    "import numpy as np"
   ]
  },
  {
   "attachments": {},
   "cell_type": "markdown",
   "metadata": {},
   "source": [
    "### Step 2. Tomaremos el fichero en [esta URL](https://raw.githubusercontent.com/justmarkham/DAT8/master/data/chipotle.tsv) y lo leeremos como un dataframe.\n",
    "\n",
    "Pista: [read_csv](https://numpy.org/doc/stable/user/absolute_beginners.html#importing-and-exporting-a-csv)"
   ]
  },
  {
   "cell_type": "code",
   "execution_count": 121,
   "metadata": {},
   "outputs": [],
   "source": [
    "'https://raw.githubusercontent.com/justmarkham/DAT8/master/data/chipotle.tsv'\n",
    "\n",
    "chipotle = pd.read_csv('https://raw.githubusercontent.com/justmarkham/DAT8/master/data/chipotle.tsv', sep='\\t')\n"
   ]
  },
  {
   "cell_type": "code",
   "execution_count": 122,
   "metadata": {},
   "outputs": [
    {
     "data": {
      "text/html": [
       "<div>\n",
       "<style scoped>\n",
       "    .dataframe tbody tr th:only-of-type {\n",
       "        vertical-align: middle;\n",
       "    }\n",
       "\n",
       "    .dataframe tbody tr th {\n",
       "        vertical-align: top;\n",
       "    }\n",
       "\n",
       "    .dataframe thead th {\n",
       "        text-align: right;\n",
       "    }\n",
       "</style>\n",
       "<table border=\"1\" class=\"dataframe\">\n",
       "  <thead>\n",
       "    <tr style=\"text-align: right;\">\n",
       "      <th></th>\n",
       "      <th>order_id</th>\n",
       "      <th>quantity</th>\n",
       "      <th>item_name</th>\n",
       "      <th>choice_description</th>\n",
       "      <th>item_price</th>\n",
       "    </tr>\n",
       "  </thead>\n",
       "  <tbody>\n",
       "    <tr>\n",
       "      <th>0</th>\n",
       "      <td>1</td>\n",
       "      <td>1</td>\n",
       "      <td>Chips and Fresh Tomato Salsa</td>\n",
       "      <td>NaN</td>\n",
       "      <td>$2.39</td>\n",
       "    </tr>\n",
       "    <tr>\n",
       "      <th>1</th>\n",
       "      <td>1</td>\n",
       "      <td>1</td>\n",
       "      <td>Izze</td>\n",
       "      <td>[Clementine]</td>\n",
       "      <td>$3.39</td>\n",
       "    </tr>\n",
       "    <tr>\n",
       "      <th>2</th>\n",
       "      <td>1</td>\n",
       "      <td>1</td>\n",
       "      <td>Nantucket Nectar</td>\n",
       "      <td>[Apple]</td>\n",
       "      <td>$3.39</td>\n",
       "    </tr>\n",
       "    <tr>\n",
       "      <th>3</th>\n",
       "      <td>1</td>\n",
       "      <td>1</td>\n",
       "      <td>Chips and Tomatillo-Green Chili Salsa</td>\n",
       "      <td>NaN</td>\n",
       "      <td>$2.39</td>\n",
       "    </tr>\n",
       "    <tr>\n",
       "      <th>4</th>\n",
       "      <td>2</td>\n",
       "      <td>2</td>\n",
       "      <td>Chicken Bowl</td>\n",
       "      <td>[Tomatillo-Red Chili Salsa (Hot), [Black Beans...</td>\n",
       "      <td>$16.98</td>\n",
       "    </tr>\n",
       "  </tbody>\n",
       "</table>\n",
       "</div>"
      ],
      "text/plain": [
       "   order_id  quantity                              item_name  \\\n",
       "0         1         1           Chips and Fresh Tomato Salsa   \n",
       "1         1         1                                   Izze   \n",
       "2         1         1                       Nantucket Nectar   \n",
       "3         1         1  Chips and Tomatillo-Green Chili Salsa   \n",
       "4         2         2                           Chicken Bowl   \n",
       "\n",
       "                                  choice_description item_price  \n",
       "0                                                NaN     $2.39   \n",
       "1                                       [Clementine]     $3.39   \n",
       "2                                            [Apple]     $3.39   \n",
       "3                                                NaN     $2.39   \n",
       "4  [Tomatillo-Red Chili Salsa (Hot), [Black Beans...    $16.98   "
      ]
     },
     "execution_count": 122,
     "metadata": {},
     "output_type": "execute_result"
    }
   ],
   "source": [
    "chipotle.head()"
   ]
  },
  {
   "cell_type": "code",
   "execution_count": 123,
   "metadata": {},
   "outputs": [],
   "source": [
    "chipotle['item_price_float'] = chipotle['item_price'].str.replace(\"$\",\"\").astype(float)\n",
    "\n",
    "chipotle['precio_unitario'] = chipotle['item_price_float'] / chipotle['quantity']\n",
    "\n",
    "\n",
    "\n",
    "\n"
   ]
  },
  {
   "attachments": {},
   "cell_type": "markdown",
   "metadata": {},
   "source": [
    "### Step 3. Veamos los tipos de datos. ¿Podríamos obtener el producto de mayor precio?"
   ]
  },
  {
   "cell_type": "code",
   "execution_count": 124,
   "metadata": {},
   "outputs": [
    {
     "data": {
      "text/plain": [
       "order_id                                                            123\n",
       "quantity                                                              2\n",
       "item_name                                              Steak Salad Bowl\n",
       "choice_description    [Tomatillo Red Chili Salsa, [Black Beans, Chee...\n",
       "item_price                                                      $23.78 \n",
       "item_price_float                                                  23.78\n",
       "precio_unitario                                                   11.89\n",
       "Name: 281, dtype: object"
      ]
     },
     "execution_count": 124,
     "metadata": {},
     "output_type": "execute_result"
    }
   ],
   "source": [
    "chipotle.loc[chipotle['precio_unitario'].idxmax()]\n"
   ]
  },
  {
   "attachments": {},
   "cell_type": "markdown",
   "metadata": {},
   "source": [
    "### Step 4. ¿Qué productos cuestan más de $10?"
   ]
  },
  {
   "cell_type": "code",
   "execution_count": 125,
   "metadata": {},
   "outputs": [
    {
     "name": "stdout",
     "output_type": "stream",
     "text": [
      "['Chicken Bowl' 'Steak Burrito' 'Chicken Burrito' 'Barbacoa Bowl'\n",
      " 'Veggie Burrito' 'Veggie Bowl' 'Chicken Soft Tacos' 'Steak Bowl'\n",
      " 'Carnitas Burrito' 'Carnitas Bowl' 'Barbacoa Burrito'\n",
      " 'Chicken Salad Bowl' 'Barbacoa Crispy Tacos' 'Veggie Salad Bowl'\n",
      " 'Chicken Salad' 'Steak Salad Bowl' 'Chicken Crispy Tacos'\n",
      " 'Veggie Soft Tacos' 'Barbacoa Soft Tacos' 'Carnitas Crispy Tacos'\n",
      " 'Carnitas Salad Bowl' 'Barbacoa Salad Bowl' 'Steak Soft Tacos'\n",
      " 'Carnitas Soft Tacos' 'Steak Crispy Tacos']\n"
     ]
    },
    {
     "data": {
      "text/plain": [
       "25"
      ]
     },
     "execution_count": 125,
     "metadata": {},
     "output_type": "execute_result"
    }
   ],
   "source": [
    "productos_caros = chipotle[chipotle['precio_unitario'] >= 10]\n",
    "\n",
    "print(productos_caros['item_name'].unique())\n",
    "len(productos_caros['item_name'].unique())\n",
    "\n"
   ]
  },
  {
   "attachments": {},
   "cell_type": "markdown",
   "metadata": {},
   "source": [
    "### Step 4.1: ¿Y cuántos pedidos se han hecho con un producto de más de 10$? ¿Es lo mismo?"
   ]
  },
  {
   "cell_type": "code",
   "execution_count": 126,
   "metadata": {},
   "outputs": [
    {
     "data": {
      "text/plain": [
       "2846"
      ]
     },
     "execution_count": 126,
     "metadata": {},
     "output_type": "execute_result"
    }
   ],
   "source": [
    "pedidos = chipotle[chipotle['item_name'].isin(productos_caros['item_name'])]\n",
    "len(pedidos)\n",
    "\n"
   ]
  },
  {
   "cell_type": "markdown",
   "metadata": {},
   "source": [
    "### Step 4.2: ¿Y cuántos pedidos se han hecho de más de 10$? ¿Es lo mismo?"
   ]
  },
  {
   "cell_type": "code",
   "execution_count": 127,
   "metadata": {},
   "outputs": [
    {
     "data": {
      "text/plain": [
       "1834"
      ]
     },
     "execution_count": 127,
     "metadata": {},
     "output_type": "execute_result"
    }
   ],
   "source": [
    "total_pedido = chipotle.groupby('order_id')['item_price_float'].sum()\n",
    "\n",
    "pedidos_10 = total_pedido[total_pedido >= 10]\n",
    "\n",
    "len(pedidos_10)\n",
    "\n"
   ]
  },
  {
   "cell_type": "markdown",
   "metadata": {},
   "source": [
    "### Step 4.3: ¿Y en cuántos pedidos se ha pagado más de 10$ por un mismo producto? ¿Es lo mismo?"
   ]
  },
  {
   "cell_type": "code",
   "execution_count": 128,
   "metadata": {},
   "outputs": [
    {
     "data": {
      "text/plain": [
       "1826"
      ]
     },
     "execution_count": 128,
     "metadata": {},
     "output_type": "execute_result"
    }
   ],
   "source": [
    "len(pedidos['order_id'].unique())"
   ]
  },
  {
   "attachments": {},
   "cell_type": "markdown",
   "metadata": {},
   "source": [
    "### Step 5. ¿Qué precio tiene cada producto en distintos pedidos? ¿Hay productos con varios precios?"
   ]
  },
  {
   "cell_type": "code",
   "execution_count": 129,
   "metadata": {},
   "outputs": [
    {
     "data": {
      "text/plain": [
       "item_name\n",
       "6 Pack Soft Drink                                                                   [6.49]\n",
       "Barbacoa Bowl                                      [11.75, 9.25, 8.99, 11.48, 8.69, 11.49]\n",
       "Barbacoa Burrito                                   [8.99, 9.25, 11.75, 11.08, 8.69, 11.48]\n",
       "Barbacoa Crispy Tacos                                           [11.75, 9.25, 11.48, 8.99]\n",
       "Barbacoa Salad Bowl                                                          [11.89, 9.39]\n",
       "Barbacoa Soft Tacos                                             [9.25, 8.99, 11.75, 11.48]\n",
       "Bottled Water                                                                  [1.09, 1.5]\n",
       "Bowl                                                             [7.3999999999999995, 7.4]\n",
       "Burrito                                                                              [7.4]\n",
       "Canned Soda                                                                         [1.09]\n",
       "Canned Soft Drink                                                                   [1.25]\n",
       "Carnitas Bowl                                            [8.99, 11.75, 9.25, 11.48, 11.08]\n",
       "Carnitas Burrito                                   [8.99, 9.25, 11.75, 11.48, 11.08, 8.69]\n",
       "Carnitas Crispy Tacos                                                  [9.25, 11.75, 8.99]\n",
       "Carnitas Salad                                                                      [8.99]\n",
       "Carnitas Salad Bowl                                                          [11.89, 9.39]\n",
       "Carnitas Soft Tacos                                                    [9.25, 8.99, 11.75]\n",
       "Chicken Bowl                             [8.49, 10.98, 11.25, 8.75, 10.979999999999999,...\n",
       "Chicken Burrito                                    [8.49, 10.98, 8.75, 11.25, 10.58, 8.19]\n",
       "Chicken Crispy Tacos                                            [8.75, 11.25, 8.49, 10.98]\n",
       "Chicken Salad                                                          [10.98, 8.49, 8.19]\n",
       "Chicken Salad Bowl                                                           [8.75, 11.25]\n",
       "Chicken Soft Tacos                                              [8.75, 11.25, 8.49, 10.98]\n",
       "Chips                                                                         [2.15, 1.99]\n",
       "Chips and Fresh Tomato Salsa                                            [2.39, 2.95, 2.29]\n",
       "Chips and Guacamole                                          [4.45, 3.99, 4.0, 3.89, 4.25]\n",
       "Chips and Mild Fresh Tomato Salsa                                                    [3.0]\n",
       "Chips and Roasted Chili Corn Salsa                                                  [2.95]\n",
       "Chips and Roasted Chili-Corn Salsa                                                  [2.39]\n",
       "Chips and Tomatillo Green Chili Salsa                                               [2.95]\n",
       "Chips and Tomatillo Red Chili Salsa                                                 [2.95]\n",
       "Chips and Tomatillo-Green Chili Salsa                                               [2.39]\n",
       "Chips and Tomatillo-Red Chili Salsa                                                 [2.39]\n",
       "Crispy Tacos                                                                         [7.4]\n",
       "Izze                                                                                [3.39]\n",
       "Nantucket Nectar                                                                    [3.39]\n",
       "Salad                                                                                [7.4]\n",
       "Side of Chips                                                   [1.69, 1.6900000000000002]\n",
       "Steak Bowl                                         [8.99, 11.75, 11.48, 9.25, 11.08, 8.69]\n",
       "Steak Burrito                                      [11.75, 9.25, 8.99, 11.48, 11.08, 8.69]\n",
       "Steak Crispy Tacos                                               [9.25, 8.99, 8.69, 11.75]\n",
       "Steak Salad                                                                   [8.99, 8.69]\n",
       "Steak Salad Bowl                                                             [11.89, 9.39]\n",
       "Steak Soft Tacos                                                [9.25, 8.99, 11.75, 11.48]\n",
       "Veggie Bowl                                                     [11.25, 8.49, 8.75, 10.98]\n",
       "Veggie Burrito                                                  [11.25, 8.49, 10.98, 8.75]\n",
       "Veggie Crispy Tacos                                                                 [8.49]\n",
       "Veggie Salad                                                                        [8.49]\n",
       "Veggie Salad Bowl                                                            [11.25, 8.75]\n",
       "Veggie Soft Tacos                                                      [11.25, 8.75, 8.49]\n",
       "Name: precio_unitario, dtype: object"
      ]
     },
     "execution_count": 129,
     "metadata": {},
     "output_type": "execute_result"
    }
   ],
   "source": [
    "precios = chipotle.groupby('item_name')['precio_unitario'].unique()\n",
    "\n",
    "precios"
   ]
  },
  {
   "attachments": {},
   "cell_type": "markdown",
   "metadata": {},
   "source": [
    "### Step 6. Ordena el dataframe en base al nombre de producto (item name)"
   ]
  },
  {
   "cell_type": "code",
   "execution_count": 146,
   "metadata": {},
   "outputs": [
    {
     "name": "stderr",
     "output_type": "stream",
     "text": [
      "C:\\Users\\jonol\\AppData\\Local\\Temp\\ipykernel_12264\\809291780.py:1: DeprecationWarning: DataFrameGroupBy.apply operated on the grouping columns. This behavior is deprecated, and in a future version of pandas the grouping columns will be excluded from the operation. Either pass `include_groups=False` to exclude the groupings or explicitly select the grouping columns after groupby to silence this warning.\n",
      "  chipotle_agrupacion = chipotle.groupby('item_name').apply(lambda x: x)\n"
     ]
    },
    {
     "data": {
      "text/html": [
       "<div>\n",
       "<style scoped>\n",
       "    .dataframe tbody tr th:only-of-type {\n",
       "        vertical-align: middle;\n",
       "    }\n",
       "\n",
       "    .dataframe tbody tr th {\n",
       "        vertical-align: top;\n",
       "    }\n",
       "\n",
       "    .dataframe thead th {\n",
       "        text-align: right;\n",
       "    }\n",
       "</style>\n",
       "<table border=\"1\" class=\"dataframe\">\n",
       "  <thead>\n",
       "    <tr style=\"text-align: right;\">\n",
       "      <th></th>\n",
       "      <th></th>\n",
       "      <th>order_id</th>\n",
       "      <th>quantity</th>\n",
       "      <th>item_name</th>\n",
       "      <th>choice_description</th>\n",
       "      <th>item_price</th>\n",
       "      <th>item_price_float</th>\n",
       "      <th>precio_unitario</th>\n",
       "    </tr>\n",
       "    <tr>\n",
       "      <th>item_name</th>\n",
       "      <th></th>\n",
       "      <th></th>\n",
       "      <th></th>\n",
       "      <th></th>\n",
       "      <th></th>\n",
       "      <th></th>\n",
       "      <th></th>\n",
       "      <th></th>\n",
       "    </tr>\n",
       "  </thead>\n",
       "  <tbody>\n",
       "    <tr>\n",
       "      <th rowspan=\"5\" valign=\"top\">6 Pack Soft Drink</th>\n",
       "      <th>298</th>\n",
       "      <td>129</td>\n",
       "      <td>1</td>\n",
       "      <td>6 Pack Soft Drink</td>\n",
       "      <td>[Sprite]</td>\n",
       "      <td>$6.49</td>\n",
       "      <td>6.49</td>\n",
       "      <td>6.49</td>\n",
       "    </tr>\n",
       "    <tr>\n",
       "      <th>341</th>\n",
       "      <td>148</td>\n",
       "      <td>1</td>\n",
       "      <td>6 Pack Soft Drink</td>\n",
       "      <td>[Diet Coke]</td>\n",
       "      <td>$6.49</td>\n",
       "      <td>6.49</td>\n",
       "      <td>6.49</td>\n",
       "    </tr>\n",
       "    <tr>\n",
       "      <th>357</th>\n",
       "      <td>154</td>\n",
       "      <td>1</td>\n",
       "      <td>6 Pack Soft Drink</td>\n",
       "      <td>[Coke]</td>\n",
       "      <td>$6.49</td>\n",
       "      <td>6.49</td>\n",
       "      <td>6.49</td>\n",
       "    </tr>\n",
       "    <tr>\n",
       "      <th>388</th>\n",
       "      <td>168</td>\n",
       "      <td>1</td>\n",
       "      <td>6 Pack Soft Drink</td>\n",
       "      <td>[Diet Coke]</td>\n",
       "      <td>$6.49</td>\n",
       "      <td>6.49</td>\n",
       "      <td>6.49</td>\n",
       "    </tr>\n",
       "    <tr>\n",
       "      <th>417</th>\n",
       "      <td>182</td>\n",
       "      <td>1</td>\n",
       "      <td>6 Pack Soft Drink</td>\n",
       "      <td>[Diet Coke]</td>\n",
       "      <td>$6.49</td>\n",
       "      <td>6.49</td>\n",
       "      <td>6.49</td>\n",
       "    </tr>\n",
       "    <tr>\n",
       "      <th>...</th>\n",
       "      <th>...</th>\n",
       "      <td>...</td>\n",
       "      <td>...</td>\n",
       "      <td>...</td>\n",
       "      <td>...</td>\n",
       "      <td>...</td>\n",
       "      <td>...</td>\n",
       "      <td>...</td>\n",
       "    </tr>\n",
       "    <tr>\n",
       "      <th rowspan=\"5\" valign=\"top\">Veggie Soft Tacos</th>\n",
       "      <th>1395</th>\n",
       "      <td>567</td>\n",
       "      <td>1</td>\n",
       "      <td>Veggie Soft Tacos</td>\n",
       "      <td>[Fresh Tomato Salsa (Mild), [Pinto Beans, Rice...</td>\n",
       "      <td>$8.49</td>\n",
       "      <td>8.49</td>\n",
       "      <td>8.49</td>\n",
       "    </tr>\n",
       "    <tr>\n",
       "      <th>1699</th>\n",
       "      <td>688</td>\n",
       "      <td>1</td>\n",
       "      <td>Veggie Soft Tacos</td>\n",
       "      <td>[Fresh Tomato Salsa, [Fajita Vegetables, Rice,...</td>\n",
       "      <td>$11.25</td>\n",
       "      <td>11.25</td>\n",
       "      <td>11.25</td>\n",
       "    </tr>\n",
       "    <tr>\n",
       "      <th>2384</th>\n",
       "      <td>948</td>\n",
       "      <td>1</td>\n",
       "      <td>Veggie Soft Tacos</td>\n",
       "      <td>[Roasted Chili Corn Salsa, [Fajita Vegetables,...</td>\n",
       "      <td>$8.75</td>\n",
       "      <td>8.75</td>\n",
       "      <td>8.75</td>\n",
       "    </tr>\n",
       "    <tr>\n",
       "      <th>2851</th>\n",
       "      <td>1132</td>\n",
       "      <td>1</td>\n",
       "      <td>Veggie Soft Tacos</td>\n",
       "      <td>[Roasted Chili Corn Salsa (Medium), [Black Bea...</td>\n",
       "      <td>$8.49</td>\n",
       "      <td>8.49</td>\n",
       "      <td>8.49</td>\n",
       "    </tr>\n",
       "    <tr>\n",
       "      <th>3889</th>\n",
       "      <td>1559</td>\n",
       "      <td>2</td>\n",
       "      <td>Veggie Soft Tacos</td>\n",
       "      <td>[Fresh Tomato Salsa (Mild), [Black Beans, Rice...</td>\n",
       "      <td>$16.98</td>\n",
       "      <td>16.98</td>\n",
       "      <td>8.49</td>\n",
       "    </tr>\n",
       "  </tbody>\n",
       "</table>\n",
       "<p>4622 rows × 7 columns</p>\n",
       "</div>"
      ],
      "text/plain": [
       "                        order_id  quantity          item_name  \\\n",
       "item_name                                                       \n",
       "6 Pack Soft Drink 298        129         1  6 Pack Soft Drink   \n",
       "                  341        148         1  6 Pack Soft Drink   \n",
       "                  357        154         1  6 Pack Soft Drink   \n",
       "                  388        168         1  6 Pack Soft Drink   \n",
       "                  417        182         1  6 Pack Soft Drink   \n",
       "...                          ...       ...                ...   \n",
       "Veggie Soft Tacos 1395       567         1  Veggie Soft Tacos   \n",
       "                  1699       688         1  Veggie Soft Tacos   \n",
       "                  2384       948         1  Veggie Soft Tacos   \n",
       "                  2851      1132         1  Veggie Soft Tacos   \n",
       "                  3889      1559         2  Veggie Soft Tacos   \n",
       "\n",
       "                                                       choice_description  \\\n",
       "item_name                                                                   \n",
       "6 Pack Soft Drink 298                                            [Sprite]   \n",
       "                  341                                         [Diet Coke]   \n",
       "                  357                                              [Coke]   \n",
       "                  388                                         [Diet Coke]   \n",
       "                  417                                         [Diet Coke]   \n",
       "...                                                                   ...   \n",
       "Veggie Soft Tacos 1395  [Fresh Tomato Salsa (Mild), [Pinto Beans, Rice...   \n",
       "                  1699  [Fresh Tomato Salsa, [Fajita Vegetables, Rice,...   \n",
       "                  2384  [Roasted Chili Corn Salsa, [Fajita Vegetables,...   \n",
       "                  2851  [Roasted Chili Corn Salsa (Medium), [Black Bea...   \n",
       "                  3889  [Fresh Tomato Salsa (Mild), [Black Beans, Rice...   \n",
       "\n",
       "                       item_price  item_price_float  precio_unitario  \n",
       "item_name                                                             \n",
       "6 Pack Soft Drink 298      $6.49               6.49             6.49  \n",
       "                  341      $6.49               6.49             6.49  \n",
       "                  357      $6.49               6.49             6.49  \n",
       "                  388      $6.49               6.49             6.49  \n",
       "                  417      $6.49               6.49             6.49  \n",
       "...                           ...               ...              ...  \n",
       "Veggie Soft Tacos 1395     $8.49               8.49             8.49  \n",
       "                  1699    $11.25              11.25            11.25  \n",
       "                  2384     $8.75               8.75             8.75  \n",
       "                  2851     $8.49               8.49             8.49  \n",
       "                  3889    $16.98              16.98             8.49  \n",
       "\n",
       "[4622 rows x 7 columns]"
      ]
     },
     "execution_count": 146,
     "metadata": {},
     "output_type": "execute_result"
    }
   ],
   "source": [
    "chipotle_agrupacion = chipotle.groupby('item_name').apply(lambda x: x)\n",
    "chipotle_orden = chipotle_agrupacion.sort_index()\n",
    "chipotle_orden\n"
   ]
  },
  {
   "attachments": {},
   "cell_type": "markdown",
   "metadata": {},
   "source": [
    "### Step 7. ¿Cuantas veces se ha pedido los productos más caros?"
   ]
  },
  {
   "cell_type": "code",
   "execution_count": 95,
   "metadata": {},
   "outputs": [
    {
     "data": {
      "text/plain": [
       "29"
      ]
     },
     "execution_count": 95,
     "metadata": {},
     "output_type": "execute_result"
    }
   ],
   "source": [
    "pedidos_mascaro = chipotle[chipotle['item_name'] == 'Steak Salad Bowl']\n",
    "\n",
    "len(pedidos_mascaro)\n"
   ]
  },
  {
   "attachments": {},
   "cell_type": "markdown",
   "metadata": {},
   "source": [
    "### Step 8. Veamos para el caso de Veggie Salad Bowl. Extrae esa información."
   ]
  },
  {
   "cell_type": "code",
   "execution_count": 100,
   "metadata": {},
   "outputs": [
    {
     "name": "stdout",
     "output_type": "stream",
     "text": [
      "18\n",
      "[  83  128  195  207  394  536  760  869  896  913 1066 1289 1321 1646\n",
      " 1677 1700 1805 1818]\n",
      "[11.25  8.75]\n",
      "182.5\n"
     ]
    }
   ],
   "source": [
    "veggie = chipotle[chipotle['item_name'] == 'Veggie Salad Bowl']\n",
    "\n",
    "print(len(veggie))\n",
    "print(veggie['order_id'].unique())\n",
    "precios_distintos = veggie['precio_unitario'].unique()\n",
    "print(precios_distintos)\n",
    "total_generado = veggie['item_price_float'].sum()\n",
    "print(total_generado)\n"
   ]
  }
 ],
 "metadata": {
  "anaconda-cloud": {},
  "kernelspec": {
   "display_name": "Python 3",
   "language": "python",
   "name": "python3"
  },
  "language_info": {
   "codemirror_mode": {
    "name": "ipython",
    "version": 3
   },
   "file_extension": ".py",
   "mimetype": "text/x-python",
   "name": "python",
   "nbconvert_exporter": "python",
   "pygments_lexer": "ipython3",
   "version": "3.13.2"
  }
 },
 "nbformat": 4,
 "nbformat_minor": 4
}
