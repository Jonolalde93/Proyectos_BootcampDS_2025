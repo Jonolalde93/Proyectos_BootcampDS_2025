{
 "cells": [
  {
   "cell_type": "markdown",
   "metadata": {},
   "source": [
    "## Ejercicios Python\n",
    "\n"
   ]
  },
  {
   "cell_type": "markdown",
   "metadata": {},
   "source": [
    "Ejercicio 1 : Given two integer numbers, write a Python code to return their product only if the product is equal to or lower than 1000. Otherwise, return their sum.\n",
    "\n"
   ]
  },
  {
   "cell_type": "code",
   "execution_count": 15,
   "metadata": {},
   "outputs": [
    {
     "name": "stdout",
     "output_type": "stream",
     "text": [
      "8.0\n"
     ]
    }
   ],
   "source": [
    "numero1 = float(input(\"Introduzca el primer numero\"))\n",
    "numero2 = float(input(\"Introduzca el segundo numero\"))\n",
    "\n",
    "mult = numero1*numero2\n",
    "suma = numero1+numero2\n",
    "if mult <= 1000 :\n",
    "    print(mult)\n",
    "else:\n",
    "    print(suma)\n",
    "    "
   ]
  },
  {
   "cell_type": "markdown",
   "metadata": {},
   "source": [
    "Ejercicio 2: Print the Sum of a Current Number and a Previous number\n",
    "Write a Python code to iterate the first 10 numbers, and in each iteration, print the sum of the current and previous number."
   ]
  },
  {
   "cell_type": "code",
   "execution_count": 30,
   "metadata": {},
   "outputs": [
    {
     "name": "stdout",
     "output_type": "stream",
     "text": [
      "Current number is  3 total is 3\n",
      "Current number is  4 total is 7\n",
      "Current number is  5 total is 12\n",
      "Current number is  6 total is 18\n",
      "Current number is  7 total is 25\n",
      "Current number is  8 total is 33\n",
      "Current number is  9 total is 42\n",
      "Current number is  10 total is 52\n",
      "Current number is  11 total is 63\n",
      "Current number is  12 total is 75\n"
     ]
    },
    {
     "data": {
      "text/plain": [
       "('Total is', 75)"
      ]
     },
     "execution_count": 30,
     "metadata": {},
     "output_type": "execute_result"
    }
   ],
   "source": [
    "numeros = []\n",
    "def suma_concatenada(*numeros) :\n",
    "    suma = 0\n",
    "    for i in numeros:\n",
    "        suma = suma + i\n",
    "        print(\"Current number is \", i, \"total is\",suma)\n",
    "    return \"Total is\",suma\n",
    "    \n",
    "suma_concatenada(3,4,5,6,7,8,9,10,11,12)\n"
   ]
  },
  {
   "cell_type": "markdown",
   "metadata": {},
   "source": [
    "Ejercicio 3: Write a Python code to accept a string from the user and display characters present at an even index number.\n",
    "\n"
   ]
  },
  {
   "cell_type": "markdown",
   "metadata": {},
   "source": []
  }
 ],
 "metadata": {
  "kernelspec": {
   "display_name": "Python 3",
   "language": "python",
   "name": "python3"
  },
  "language_info": {
   "codemirror_mode": {
    "name": "ipython",
    "version": 3
   },
   "file_extension": ".py",
   "mimetype": "text/x-python",
   "name": "python",
   "nbconvert_exporter": "python",
   "pygments_lexer": "ipython3",
   "version": "3.13.2"
  }
 },
 "nbformat": 4,
 "nbformat_minor": 2
}
