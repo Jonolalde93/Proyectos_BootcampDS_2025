{
 "cells": [
  {
   "cell_type": "markdown",
   "metadata": {},
   "source": [
    "![imagen](./img/ejercicios.png)\n",
    "\n",
    "# Ejercicios Clases y Objetos"
   ]
  },
  {
   "attachments": {},
   "cell_type": "markdown",
   "metadata": {},
   "source": [
    "## Ejercicio 1\n",
    "Somos una empresa que tiene varias tiendas de electrodomésticos. Necesitamos un programa para manejar las tiendas, ver las ventas que han tenido, cuántos empleados hay, etc... Para ello vamos a modelizar la tienda en una clase, que tendrá las siguientes características:\n",
    "* Nombre clase: \"Tienda\"\n",
    "* Atributos comunes:\n",
    "    * Tipo: \"Electrodomésticos\"\n",
    "    * Abierta: True\n",
    "* Atributos propios de cada tienda:\n",
    "    * Nombre - String\n",
    "    * Dirección - String\n",
    "    * Número de empleados - int\n",
    "    * Ventas últimos 3 meses - Lista de 3 numeros\n",
    "* Método para calcular las ventas de todos los meses, que devuelva un número con todas las ventas.\n",
    "* Método que calcula la media de ventas de los últimos meses, por empleado\n",
    "* Método que devuelve en un string el nombre de la tienda, junto con su dirección.\n",
    "* Método que obtiene las ventas del último mes.\n",
    "* Método para dar una proyección de las ventas en caso de haber invertido X dinero en marketing en esa tienda. Siendo X el parámetro de entrada. Si X es menor de 1000, las ventas de los ultimos 3 meses hubiesen sido de (1.2 x ventas), si es mayor o igual de 1000, las ventas hubiesen sido de (1.5 x venta). El método reescribe el atributo de ventas en los últimos 3 meses, y además devuelve las ventas con el aumento.\n",
    "\n",
    "Se pide:\n",
    "1. Implementar la clase \"Tienda\"\n",
    "2. Crear tres tiendas con datos inventados\n",
    "3. Comprueba en al menos una de ellas, todo lo implementado en la clase tienda (sus atributos, media de ventas, ventas/empleado...)\n",
    "3. Calcular las ventas del último mes de todas las tiendas. Para ello usa el bucle `for`\n",
    "4. Imprime por pantalla los nombres de las tiendas cuya dirección lleve el string \"Avenida\"\n",
    "5. Seguro que ya has hecho este apartado... Documenta la clase :)"
   ]
  },
  {
   "cell_type": "code",
   "execution_count": null,
   "metadata": {},
   "outputs": [],
   "source": [
    "class Tienda:\n",
    "    '''\n",
    "    Clase \"Tienda \" empleada para definir diferentes tiendas de electrodomesticos\n",
    "    \n",
    "    El requisito basico de cualquier elemento de esta clase es que esten abiertas y venden electronica en general\n",
    "    Podemos definir el nombre(texto), direccion(texto), numeros empleados(numero entero) y las ventas de los 3 ultimos meses(float) en cadena\n",
    "\n",
    "    Funciones:\n",
    "\n",
    "    ventasmes() --> Nos da el importe de lo facturado en los 3 ultimos meses\n",
    "    ventasmedia() --> Nos da la media de lo facturado por empleado en los 3 ultimos meses\n",
    "    ventasultimo() --> Nos da la venta del ultimo mes\n",
    "    proyeccion() --> Introducciendo el valor correspondiente a que se habria invertido(float), nos hace una proyeccion estimada de lo que se ganaria por mes y en conjunto de los 3 ultimos meses\n",
    "    '''\n",
    "    Tipo = \"Electrodomesticos\"\n",
    "    Abierta = True\n",
    "    def __init__(self,nombre:str,direccion:str,numerosempleados:int,*ventas3ultimosmeses:float):\n",
    "        self.nombre = nombre\n",
    "        self.direccion = direccion\n",
    "        self.empleados = numerosempleados\n",
    "        self.ventas =[*ventas3ultimosmeses]\n",
    "    def ventasmes(self): \n",
    "        return self.ventas[0]+self.ventas[1]+self.ventas[2]\n",
    "    def ventasmedia(self):\n",
    "        return (self.ventas[0]+self.ventas[1]+self.ventas[2])/self.empleados\n",
    "    def ventasultimo(self):\n",
    "        return (self.ventas[2])\n",
    "    def proyeccion(self,inversion):\n",
    "        if inversion < 1000 :\n",
    "            return 1.2*self.ventas[0], 1.2*self.ventas[1], 1.2*self.ventas[2],\"Total:\",1.2*(self.ventas[0]+self.ventas[1]+self.ventas[2])\n",
    "        if inversion >= 1000:\n",
    "            return 1.5*self.ventas[0], 1.2*self.ventas[1], 1.2*self.ventas[2],\"Total:\",1.2*(self.ventas[0]+self.ventas[1]+self.ventas[2])\n",
    "        "
   ]
  },
  {
   "cell_type": "code",
   "execution_count": 49,
   "metadata": {},
   "outputs": [
    {
     "name": "stdout",
     "output_type": "stream",
     "text": [
      "{'nombre': 'Tien21', 'direccion': 'Avenida Pio XII', 'empleados': 15, 'ventas': [10000, 5000, 8000]}\n",
      "{'nombre': 'El Corte Ingles - Electronica', 'direccion': 'Gran Via', 'empleados': 120, 'ventas': [220000, 300000, 176000]}\n",
      "{'nombre': 'Media Markt', 'direccion': 'Avenida del manzano 1', 'empleados': 75, 'ventas': [35000, 40000, 78000]}\n",
      "153000\n",
      "2040.0\n",
      "78000\n",
      "(52500.0, 48000.0, 93600.0, 'Total:', 183600.0)\n",
      "78000\n",
      "8000\n",
      "176000\n",
      "Media Markt\n",
      "Tien21\n"
     ]
    },
    {
     "data": {
      "text/plain": [
       "'\\nClase \"Tienda \" empleada para definir diferentes tiendas de electrodomesticos\\n\\nEl requisito principal para incluir algo es que esten abiertas y venden electronica en general\\nEn ella clasificamos el nombre, direccion, numeros empleados y las ventas de los 3 ultimos meses\\n'"
      ]
     },
     "execution_count": 49,
     "metadata": {},
     "output_type": "execute_result"
    }
   ],
   "source": [
    "corteingles = Tienda(\"El Corte Ingles - Electronica\", \"Gran Via\", 120, 220000,300000,176000)\n",
    "tien21 = Tienda(\"Tien21\", \"Avenida Pio XII\",15,10000,5000,8000)\n",
    "mediamarkt = Tienda(\"Media Markt\",\"Avenida del manzano 1\",75,35000,40000,78000)\n",
    "\n",
    "print(tien21.__dict__)\n",
    "print(corteingles.__dict__)\n",
    "print(mediamarkt.__dict__)\n",
    "\n",
    "print(mediamarkt.ventasmes())\n",
    "print(mediamarkt.ventasmedia())\n",
    "print(mediamarkt.ventasultimo())\n",
    "print(mediamarkt.proyeccion(1000))\n",
    "\n",
    "def ultimomestiendas(*tienda):\n",
    "    for i in tienda:\n",
    "        print(i.ventasultimo())\n",
    "    \n",
    "ultimomestiendas(mediamarkt,tien21,corteingles)\n",
    "\n",
    "def buscador(*tienda):\n",
    "    for i in tienda:\n",
    "        if \"Avenida\" in i.direccion:\n",
    "            print(i.nombre)\n",
    "        \n",
    "buscador(mediamarkt,tien21,corteingles)\n",
    "\n",
    "Tienda.__doc__\n",
    "\n",
    "\n"
   ]
  },
  {
   "cell_type": "markdown",
   "metadata": {},
   "source": [
    "## Ejercicio 2\n",
    "En este ejercicio vamos a implementar una clase *Perro* en Python. La clase tiene las siguientes características:\n",
    "* Cosas que sabemos seguro que tiene un perro\n",
    "    * Tiene 4 patas\n",
    "    * 2 orejas\n",
    "    * 2 ojos\n",
    "    * Una velocidad de 0. Por defecto, el perro está parado\n",
    "* Cuando se inicialice:\n",
    "    * El perro será de una determinada raza\n",
    "    * Por defecto tendrá pelo \"Marrón\", a no ser que se diga lo contrario.\n",
    "    * Por defecto no tendrá dueño, a no ser que se diga lo contrario.\n",
    "    \n",
    "* Dispondrá también de un método llamado andar, que tiene un argumento de entrada (aumento_velocidad). Este valor se le sumará a la velocidad que ya llevaba el perro.\n",
    "* Necesita otro método (parar), donde pondremos la velocidad a 0.\n",
    "* Otro método llamado \"ladrar\", que tendrá un argumento de entrada, y la salida será el siguiente string: \"GUAU!\" + el argumento de entrada.\n",
    "\n",
    "\n",
    "Se pide:\n",
    "* Implementa la clase *Perro*\n",
    "* Crea un objeto de tipo *Perro*, sin dueño\n",
    "* Comprueba que están bien todos sus atributos\n",
    "* Prueba que ande, y comprueba su velocidad\n",
    "* Páralo\n",
    "* Documenta la clase *Perro*"
   ]
  },
  {
   "cell_type": "code",
   "execution_count": 1,
   "metadata": {},
   "outputs": [],
   "source": [
    "class Perro:\n",
    "    '''\n",
    "    Esta es la clase Perro, cuenta con 4 parametros predefinidos: patas, orejas, ojos y velocidad\n",
    "\n",
    "    Posteriormente podemos definir cuatro mas, la raza (en texto), el color de su pelaje(marron por defecto) y si tiene dueño o no.\n",
    "    Esta clase cuenta tambien con las funciones andar(), que ajusta el parametro velocidad y parar(), que devuelve dicho parametro a O\n",
    "    Tambien si quieres, puedes hacer que diga algo divertido con la funcion ladrar() y el texto que tu quieras \n",
    "    '''\n",
    "    patas = 4\n",
    "    orejas =2\n",
    "    ojos =2\n",
    "    velocidad = 0\n",
    "    def __init__(self,raza:str,pelo:str = \"Marron\",dueño:bool = False):\n",
    "        self.raza = raza\n",
    "        self.pelo = pelo\n",
    "        self.dueño = dueño\n",
    "    def andar(self, aumento_velocidad):\n",
    "        self.velocidad = self.velocidad + aumento_velocidad\n",
    "        return self.velocidad\n",
    "    def parar(self):\n",
    "        return self.velocidad == 0\n",
    "    def ladrar(self,texto:str):\n",
    "        return \"GUAU\",texto\n"
   ]
  },
  {
   "cell_type": "code",
   "execution_count": null,
   "metadata": {},
   "outputs": [
    {
     "name": "stdout",
     "output_type": "stream",
     "text": [
      "{'raza': 'Yorkshire', 'pelo': 'Tricolor', 'dueño': True}\n",
      "{'raza': 'Perro de aguas', 'pelo': 'Marron', 'dueño': True}\n",
      "{'raza': 'Cruce Galgo+Mastin', 'pelo': 'Negro', 'dueño': False}\n",
      "5\n",
      "10\n"
     ]
    },
    {
     "data": {
      "text/plain": [
       "('GUAU', 'Soy el perro de Alberto')"
      ]
     },
     "execution_count": 72,
     "metadata": {},
     "output_type": "execute_result"
    }
   ],
   "source": [
    "Pepe =Perro(\"Yorkshire\",\"Tricolor\",True)\n",
    "Sebastian = Perro(\"Perro de aguas\",\"Marron\",True)\n",
    "Molo = Perro(\"Cruce Galgo+Mastin\",\"Negro\")\n",
    "\n",
    "\n",
    "print(Pepe.__dict__)\n",
    "print(Sebastian.__dict__)\n",
    "print(Molo.__dict__)\n",
    "\n",
    "Pepe.andar(5)\n",
    "Sebastian.andar(10)\n",
    "\n",
    "print(Pepe.velocidad)\n",
    "print(Sebastian.velocidad)\n",
    "\n",
    "Sebastian.ladrar(\"Soy el perro de Alberto\")\n",
    "\n",
    "Perro.__doc__\n",
    "\n",
    "\n"
   ]
  }
 ],
 "metadata": {
  "kernelspec": {
   "display_name": "Python 3",
   "language": "python",
   "name": "python3"
  },
  "language_info": {
   "codemirror_mode": {
    "name": "ipython",
    "version": 3
   },
   "file_extension": ".py",
   "mimetype": "text/x-python",
   "name": "python",
   "nbconvert_exporter": "python",
   "pygments_lexer": "ipython3",
   "version": "3.13.2"
  }
 },
 "nbformat": 4,
 "nbformat_minor": 4
}
