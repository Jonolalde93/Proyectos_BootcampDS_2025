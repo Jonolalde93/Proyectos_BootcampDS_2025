{
 "cells": [
  {
   "attachments": {},
   "cell_type": "markdown",
   "metadata": {},
   "source": [
    "### Ejercicio 1 \n",
    "En este ejercicio se va a crear una lista con los siguientes elementos. Primero, crearemos las variables que luego añadiremos a la lista. Las variables son las siguientes:\n",
    "\n",
    "1. Crea una variable llamada `edad` de tipo Integer que represente tu edad en años. \n",
    "2. Crea una variable llamada `poblacion` de tipo String , con tu población de nacimiento. \n",
    "3. Crea una variable llamada `altura` con el valor de tu altura en metros de tipo float.\n",
    "4. Crea una variable llamada `s_operativo` de tipo Boolean True si usas Windows y False si usas otro.\n",
    "5. Crea una variable llamada `nada` de tipo None cuyo valor sea None.\n",
    "6. Crea una variable llamada `lista_vacaciones` de tipo List que contenga 5 destinos de viaje a los que te gustaría ir. Cada elemento ha de ser de tipo String.\n",
    "7. Crea una variable llamada `tupla_isla` de tipo Tuple con tres objetos que te llevarías a una isla desierta.\n",
    "8. Crea una variable llamada `dict_pc` con dos keys y dos values. Una key es `marca`, teniendo como value la marca de tu pc de tipo String. Otra key es la `ram`, cuyo valor es es un entero del número de gigas de la ram de tu ordenador\n",
    "9. Añade todos estos elementos en una lista llamada `lista_examen` en el orden de aparición.\n",
    "10. Guarda en la variable `lon_lista_examen` la longitud de `lista_examen`."
   ]
  },
  {
   "cell_type": "code",
   "execution_count": 1,
   "metadata": {},
   "outputs": [
    {
     "name": "stdout",
     "output_type": "stream",
     "text": [
      "31\n",
      "Bilbao\n",
      "1.81\n",
      "True\n",
      "None\n",
      "['Romania', 'USA', 'Czechia', 'Japan', 'Rep.Dominicana']\n",
      "('Yesca y pedernal', 'Hilo de Nylon', 'Agua potable')\n",
      "{'Marca': 'Acer', 'RAM': 16}\n",
      "[31, 'Bilbao', 1.81, True, None, ['Romania', 'USA', 'Czechia', 'Japan', 'Rep.Dominicana'], ('Yesca y pedernal', 'Hilo de Nylon', 'Agua potable'), {'Marca': 'Acer', 'RAM': 16}]\n",
      "8\n"
     ]
    }
   ],
   "source": [
    "edad = 31\n",
    "print(edad)\n",
    "\n",
    "poblacion = \"Bilbao\"\n",
    "print(poblacion)\n",
    "\n",
    "altura = 1.81\n",
    "print(altura)\n",
    "\n",
    "s_operativo = True\n",
    "print(s_operativo)\n",
    "\n",
    "nada = None\n",
    "print(nada)\n",
    "\n",
    "lista_vacaciones = [\"Romania\",\"USA\",\"Czechia\",\"Japan\",\"Rep.Dominicana\"]\n",
    "print(lista_vacaciones)\n",
    "\n",
    "tupla_isla = (\"Yesca y pedernal\",\"Hilo de Nylon\",\"Agua potable\")\n",
    "print(tupla_isla)\n",
    "\n",
    "dict_pc = {\"Marca\": \"Acer\", \"RAM\":16}\n",
    "print(dict_pc)\n",
    "\n",
    "lista_examen =[edad,poblacion,altura,s_operativo,nada,lista_vacaciones,tupla_isla,dict_pc]\n",
    "print(lista_examen)\n",
    "\n",
    "lon_lista_examen = len(lista_examen)\n",
    "print(lon_lista_examen)\n",
    "\n",
    "\n"
   ]
  },
  {
   "attachments": {},
   "cell_type": "markdown",
   "id": "ff4becae-86c4-46ab-9e09-3aeec5296700",
   "metadata": {},
   "source": [
    "### Ejercicio 2 \n",
    "\n",
    "Para resolver este ejercicio necesitarás la lista del ejercicio anterior (`lista_examen`). Se recomienda leer cada punto hasta el final antes de resolver el ejercicio.\n",
    "\n",
    "Se repite para que quede aún más claro: **SOLO USAR LA VARIABLE** `lista_examen`. Usar otra variable se calificará como error.  \n",
    "\n",
    "1. Guardar en las variables, sin uso de funciones (puedes usar print) ni bucles: \n",
    "    - `res21` El tercer destino de vacaciones\n",
    "    - `res22` El penúltimo objeto que te llevarías a una isla para todo tipo de longitudes de listados.\n",
    "    - `res23` Los 3 primeros caracteres de la población de nacimiento.\n",
    "    - `res24` Una lista de los valores del diccionario de tu pc.\n",
    "    - `res25` Guardar dentro del diccionario dentro de `lista_examen` una nueva clave llamada `s_operativo` con una lista de 3 booleanos, True si es Windows, de tus últimos 3 pcs.\n",
    "\n",
    "<br></br>   \n",
    "    \n",
    "2. Mostrar por pantalla, con uso de un bucle `for`:\n",
    "    - Las posiciones y elementos de `lista_examen` de las posiciones impares.\n",
    "    - Todos los elementos de `lista_examen` al revés.\n",
    "    - Todos aquellos elementos que sean colecciones ordenadas de `lista_examen`, si no lo son, imprimir el tipo.\n",
    "\n",
    "<br></br>  \n",
    "\n",
    "3. Con uso del bucle `while`, borra los destinos por la cola hasta que tengas 3 destinos, y guarda esos destinos borrados en una nueva lista `destinos_borrados`.\n",
    "\n",
    "\n",
    "    \n",
    "\n",
    "    "
   ]
  },
  {
   "cell_type": "code",
   "execution_count": 2,
   "metadata": {},
   "outputs": [
    {
     "name": "stdout",
     "output_type": "stream",
     "text": [
      "Czechia\n",
      "Hilo de Nylon\n",
      "Bil\n",
      "dict_values(['Acer', 16])\n",
      "[True, True, True]\n"
     ]
    }
   ],
   "source": [
    "res21 = lista_examen[5][2]\n",
    "print(res21)\n",
    "\n",
    "res22 = lista_examen[6][-2]\n",
    "print(res22)\n",
    "\n",
    "res23 = lista_examen[1][0:3]\n",
    "print(res23)\n",
    "\n",
    "res24 = lista_examen[7].values()\n",
    "print(res24)\n",
    "\n",
    "s_operativo = [True,True,True]\n",
    "lista_examen[7][\"s_operativo\"] = s_operativo\n",
    "res25 = s_operativo\n",
    "print(res25)\n"
   ]
  },
  {
   "cell_type": "code",
   "execution_count": 3,
   "metadata": {},
   "outputs": [
    {
     "name": "stdout",
     "output_type": "stream",
     "text": [
      "Bilbao\n",
      "True\n",
      "['Romania', 'USA', 'Czechia', 'Japan', 'Rep.Dominicana']\n",
      "{'Marca': 'Acer', 'RAM': 16, 's_operativo': [True, True, True]}\n",
      "31\n",
      "Bilbao\n",
      "1.81\n",
      "True\n",
      "None\n",
      "['Romania', 'USA', 'Czechia', 'Japan', 'Rep.Dominicana']\n",
      "('Yesca y pedernal', 'Hilo de Nylon', 'Agua potable')\n",
      "{'Marca': 'Acer', 'RAM': 16, 's_operativo': [True, True, True]}\n",
      "[{'Marca': 'Acer', 'RAM': 16, 's_operativo': [True, True, True]}, ('Yesca y pedernal', 'Hilo de Nylon', 'Agua potable'), ['Romania', 'USA', 'Czechia', 'Japan', 'Rep.Dominicana'], None, True, 1.81, 'Bilbao', 31]\n"
     ]
    }
   ],
   "source": [
    "for i in range(len(lista_examen)):\n",
    "    if i%2 != 0:\n",
    "        print(lista_examen[i])\n",
    "for i in lista_examen:\n",
    "    if i == str or dict or tuple:\n",
    "        print(i)\n",
    "    else:\n",
    "        print(i, type(i))\n",
    "print(lista_examen[::-1])\n",
    "    \n",
    "\n"
   ]
  },
  {
   "cell_type": "code",
   "execution_count": 4,
   "metadata": {},
   "outputs": [
    {
     "name": "stdout",
     "output_type": "stream",
     "text": [
      "['Romania', 'USA', 'Czechia']\n"
     ]
    }
   ],
   "source": [
    "while len(lista_examen[5]) > 3:\n",
    "    lista_examen[5].pop()\n",
    "print(lista_examen[5])"
   ]
  },
  {
   "attachments": {},
   "cell_type": "markdown",
   "metadata": {},
   "source": [
    "### Ejercicio 3\n",
    "\n",
    "#### Crear un programa que calcule la cuota de una hipoteca\n",
    "\n",
    "Las cuotas hipotecarias se calculan utilizando la fórmula del interés francés. \n",
    "\n",
    "La fórmula del interés francés es la siguiente:\n",
    "$$\n",
    "C=V \\frac{(1+i)^n i}{(1+i)^n -1}\n",
    "$$\n",
    "\n",
    "\n",
    "    C = cuota a pagar (mensual)\n",
    "    V = volumen del préstamo hipotecario\n",
    "    i = tipo de interés del período (mensual)\n",
    "    n = número de cuotas (mensuales)\n",
    "\n",
    "1. Crea un programa que solicite al usuario los datos de su hipoteca mediante input() los datos (volumen, interés **anual**, y plazo en **años**) y le devuelva la cuota **mensual** a pagar. No es necesario encapsularlo en funciones.\n",
    "\n",
    "2. Crea una función `calcular_hip` que realiza el cálculo y cuyos argumentos de entrada sean `volumen`, `interés_anual` y `años`, devolviendo la cuota mensual(float). El argumento de `años` deberá de tener un valor por defecto de 30.\n",
    "3. Calcula la cuota y guárdala en la variable `res_cuota` si la cantidad de la hipoteca son 350000 euros, el interés anual es del 5% y la quiere pagar en 20 años a partir de la función `calcular_hip`.\n",
    "4. Crea una función `gasto_vivienda`, con dos argumentos de entrada `ingreso` y `lista_hip`. Esta lista tendrá los 3 valores de los argumentos de entrada de `calcular_hip`, siendo esta una función que deberá ser utilizada dentro de `gasto_vivienda`. Tiene que devolver el valor del porcentaje de gasto en la hipoteca respecto a los ingresos. (Entre 0 y 1, es decir 0.5 si es del 50%)\n",
    "5. Calcula el porcentaje de gasto en la hipoteca si el ingreso es de 1700 euros y guárdalo en la variable `res_porcentaje`.\n",
    "6. Documenta ambas funciones con el estilo de Google.\n"
   ]
  },
  {
   "cell_type": "code",
   "execution_count": null,
   "metadata": {},
   "outputs": [],
   "source": [
    "volumen = float(input(\"Introduzca el volumen del prestamo\"))\n",
    "interes_anual = float(input(\"Introduzca el interes anual\"))\n",
    "años = float(input(\"Introduzca el numero de cuotas\"))\n",
    "\n",
    "interes_mensual = interes_anual/100/12\n",
    "meses= años*12\n",
    "\n",
    "cuota = volumen*((1+interes_mensual)**(meses)*(interes_mensual)/((1+(interes_mensual))**(meses)-1))\n",
    "print(cuota)"
   ]
  },
  {
   "cell_type": "code",
   "execution_count": null,
   "metadata": {},
   "outputs": [],
   "source": [
    "def calc_hip(volumen,interes_anual,años=30):\n",
    "    interes_mensual = interes_anual/100/12\n",
    "    meses= años*12\n",
    "    cuota = volumen*((1+interes_mensual)**(meses)*(interes_mensual)/((1+(interes_mensual))**(meses)-1))\n",
    "    return cuota"
   ]
  },
  {
   "cell_type": "code",
   "execution_count": null,
   "metadata": {},
   "outputs": [
    {
     "name": "stdout",
     "output_type": "stream",
     "text": [
      "2309.8450872583057\n"
     ]
    }
   ],
   "source": [
    "\n",
    "res_cuota = calc_hip(350000,5,20)\n",
    "print(res_cuota)"
   ]
  },
  {
   "cell_type": "code",
   "execution_count": null,
   "metadata": {},
   "outputs": [],
   "source": [
    "def gasto_vivienda(ingreso,lista_hip):\n",
    "    lista_hip = [volumen,interes_anual,años]\n",
    "    cuota = calc_hip(volumen,interes_anual,años) \n",
    "    return cuota/ingreso"
   ]
  },
  {
   "cell_type": "code",
   "execution_count": null,
   "metadata": {},
   "outputs": [
    {
     "data": {
      "text/plain": [
       "0.038820925836274035"
      ]
     },
     "execution_count": 103,
     "metadata": {},
     "output_type": "execute_result"
    }
   ],
   "source": [
    "gasto_vivienda(1700,[3500,5,20])"
   ]
  },
  {
   "attachments": {},
   "cell_type": "markdown",
   "metadata": {},
   "source": [
    "### Ejercicio 4 \n",
    "\n",
    "1. Crea una clase `Cliente` que tenga 1 atributo general `mamífero`(bool True) y 6 atributos en el constructor: `ojos`(int default 2), `altura`(float), `edad`(int), `ahorros`(float), `target`(bool default True) y `nombre`(str). Además, debe contar con dos métodos: \n",
    "\n",
    "- `cumplir_edad()`: al llamar a este método se debe sumar 1 al atributo edad del cliente y que retorne \"Felices x años!\" con la edad actualizada. Si cumple 80, su altura pasará a ser el 90% de su altura original.\n",
    "- `comprar()` que recibe el argumento de `volumen_gasto`(list): este método debe actualizar el atributo de ahorros, restándole el volumen del gasto total, retornando esos ahorros actualizados. Si el cliente tiene 0 ahorros o menos, deberá de cambiar el atributo `target` a False.\n",
    "\n",
    "2. (a partir de la variable **`lista_examen`**) Crea un cliente instanciandolo en el objeto `cliente_1` llamado \"Manuel\" que tiene el doble de tu de edad y mide 10 centímetros menos que tu altura. Tiene unos ahorros de 3000 euros, y al ser un cliente con capacidad de gasto en nuestro negocio, queremos fidelizarlo en nuestra campaña, el valor `target` será True el resto de atributos puedes elegir un valor.\n",
    "\n",
    "3. (a partir de la variable **`lista_examen`**) Crea un cliente instanciandolo en el objeto `cliente_2` llamada \"Laura\" con la mitad de tu edad y la altura de Manuel. Tiene unos ahorros de 2000 euros y al ser un cliente con capacidad de gasto en nuestro negocio, queremos fidelizarlo en nuestra campaña, el valor `target` será True el resto de atributos puedes elegir un valor.\n",
    "\n",
    "4. Haz que cumplan años tus dos clientes. Les quieres fidelizar, por lo que les mandas una oferta comercial de productos. Manuel compra 3 productos de 1000, 400 y 2000 euros mientras que Laura compra solo 1 producto de 1000. Comprueba el valor de los atributos `edad` , `ahorros` y `target` de ambos clientes.\n",
    "\n",
    "5. Documenta la clase con el estilo de Google\n"
   ]
  },
  {
   "cell_type": "code",
   "execution_count": null,
   "metadata": {},
   "outputs": [],
   "source": [
    "class Cliente:\n",
    "    mamifero = True\n",
    "    def __init__(self,nombre,edad:float,altura:float,ahorros:float,target:bool=True,ojos:int=2):\n",
    "        self.altura= altura\n",
    "        self.edad = edad\n",
    "        self.nombre= nombre\n",
    "        self.target =target\n",
    "        self.ojos = ojos\n",
    "        self.ahorros = ahorros\n",
    "    def cumplir_edad(self):\n",
    "        self.edad +=1\n",
    "        if self.edad >= 80:\n",
    "            self.altura*0,9\n",
    "        return f\"Feliz {self.edad} años!\"\n",
    "    def comprar(self, *volumen_gasto:list):\n",
    "        self.ahorros -= sum(volumen_gasto)\n",
    "        if self.ahorros <= 0:\n",
    "            self.target = False\n",
    "        return self.ahorros\n",
    "        pass"
   ]
  },
  {
   "cell_type": "code",
   "execution_count": null,
   "metadata": {},
   "outputs": [
    {
     "name": "stdout",
     "output_type": "stream",
     "text": [
      "31\n",
      "1.81\n"
     ]
    }
   ],
   "source": [
    "edadManuel = lista_examen[0]\n",
    "print(edadManuel)\n",
    "mialtura = lista_examen[2]\n",
    "print(mialtura)\n",
    "\n",
    "cliente1 = Cliente(\"Manuel\", edadManuel*2 ,mialtura-10,3000,True,1)\n",
    "cliente2 = Cliente(\"Laura\", edadManuel//2, mialtura-10,2000,True,2)"
   ]
  },
  {
   "cell_type": "code",
   "execution_count": null,
   "metadata": {},
   "outputs": [
    {
     "name": "stdout",
     "output_type": "stream",
     "text": [
      "Feliz 63 años!\n",
      "Feliz 16 años!\n",
      "-400\n",
      "1000\n",
      "{'altura': -8.19, 'edad': 63, 'nombre': 'Manuel', 'target': False, 'ojos': 1, 'ahorros': -400}\n",
      "{'altura': -8.19, 'edad': 16, 'nombre': 'Laura', 'target': True, 'ojos': 2, 'ahorros': 1000}\n"
     ]
    }
   ],
   "source": [
    "print(cliente1.cumplir_edad())\n",
    "print(cliente2.cumplir_edad())\n",
    "\n",
    "print(cliente1.comprar(1000,400,2000))\n",
    "print(cliente2.comprar(1000))\n",
    "\n",
    "print(cliente1.__dict__)\n",
    "print(cliente2.__dict__)"
   ]
  }
 ],
 "metadata": {
  "kernelspec": {
   "display_name": "Python 3",
   "language": "python",
   "name": "python3"
  },
  "language_info": {
   "codemirror_mode": {
    "name": "ipython",
    "version": 3
   },
   "file_extension": ".py",
   "mimetype": "text/x-python",
   "name": "python",
   "nbconvert_exporter": "python",
   "pygments_lexer": "ipython3",
   "version": "3.13.2"
  },
  "orig_nbformat": 4,
  "vscode": {
   "interpreter": {
    "hash": "abc9fc88bc0e5c548c5da0f33af674c000293e7a58ee42428ace4cfa52bc0e99"
   }
  }
 },
 "nbformat": 4,
 "nbformat_minor": 2
}
