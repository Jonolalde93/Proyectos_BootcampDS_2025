{
 "cells": [
  {
   "cell_type": "markdown",
   "metadata": {},
   "source": [
    "![imagen](./img/ejercicios.png)"
   ]
  },
  {
   "cell_type": "markdown",
   "metadata": {},
   "source": [
    "## Ejercicio 1\n",
    "Importa el módulo de `numpy` y obtén su versión."
   ]
  },
  {
   "cell_type": "code",
   "execution_count": 25,
   "metadata": {},
   "outputs": [
    {
     "data": {
      "text/plain": [
       "'2.2.4'"
      ]
     },
     "execution_count": 25,
     "metadata": {},
     "output_type": "execute_result"
    }
   ],
   "source": [
    "import numpy as np\n",
    "\n",
    "numpy.__version__"
   ]
  },
  {
   "cell_type": "markdown",
   "metadata": {},
   "source": [
    "## Ejercicio 2\n",
    "Crea un array de una dimensión que vaya de 0 a 9. Llamalo `my_array`"
   ]
  },
  {
   "cell_type": "code",
   "execution_count": 26,
   "metadata": {},
   "outputs": [
    {
     "name": "stdout",
     "output_type": "stream",
     "text": [
      "[0 1 2 3 4 5 6 7 8 9]\n"
     ]
    }
   ],
   "source": [
    "my_array = np.arange(10)\n",
    "print(my_array)"
   ]
  },
  {
   "cell_type": "markdown",
   "metadata": {},
   "source": [
    "## Ejercicio 3\n",
    "Crea un array 3x3, que sea todo a True"
   ]
  },
  {
   "cell_type": "code",
   "execution_count": 27,
   "metadata": {},
   "outputs": [],
   "source": [
    "array2 = np.random.randint(5, size=(3,3))"
   ]
  },
  {
   "cell_type": "markdown",
   "metadata": {},
   "source": [
    "## Ejercicio 4\n",
    "Extrae todos los impares de `my_array`"
   ]
  },
  {
   "cell_type": "code",
   "execution_count": 28,
   "metadata": {},
   "outputs": [
    {
     "name": "stdout",
     "output_type": "stream",
     "text": [
      "[1 3 5 7 9]\n"
     ]
    }
   ],
   "source": [
    "impar = my_array%2 !=0\n",
    "print(my_array[impar])"
   ]
  },
  {
   "cell_type": "markdown",
   "metadata": {},
   "source": [
    "## Ejercicio 5\n",
    "En un nuevo array, sustituye todos los impares de `my_array` por -1"
   ]
  },
  {
   "cell_type": "code",
   "execution_count": 29,
   "metadata": {},
   "outputs": [
    {
     "name": "stdout",
     "output_type": "stream",
     "text": [
      "[ 0 -1  2 -1  4 -1  6 -1  8 -1]\n"
     ]
    }
   ],
   "source": [
    "my_array[impar] = -1\n",
    "print(my_array)"
   ]
  },
  {
   "cell_type": "markdown",
   "metadata": {},
   "source": [
    "## Ejercicio 6\n",
    "En un nuevo array, sustituye todos los impares de `my_array` por -1. Esta vez usa `where`"
   ]
  },
  {
   "cell_type": "code",
   "execution_count": 30,
   "metadata": {},
   "outputs": [
    {
     "name": "stdout",
     "output_type": "stream",
     "text": [
      "[ 0 -1  2 -1  4 -1  6 -1  8 -1]\n"
     ]
    }
   ],
   "source": [
    "np.where(my_array %3 !=0, -1, my_array)\n",
    "print(my_array)"
   ]
  },
  {
   "cell_type": "markdown",
   "metadata": {},
   "source": [
    "## Ejercicio 7\n",
    "Convierte `my_array` en un nuevo array de dos dimensiones mediante `reshape`."
   ]
  },
  {
   "cell_type": "code",
   "execution_count": 33,
   "metadata": {},
   "outputs": [
    {
     "name": "stdout",
     "output_type": "stream",
     "text": [
      "[[ 0 -1  2 -1  4]\n",
      " [-1  6 -1  8 -1]]\n"
     ]
    }
   ],
   "source": [
    "new_array = my_array.reshape((2,5))\n",
    "print(new_array)"
   ]
  },
  {
   "cell_type": "markdown",
   "metadata": {},
   "source": [
    "## Ejercicio 8\n",
    "Concatena los siguientes arrays verticalmente\n",
    "\n",
    "```Python\n",
    "a = np.arange(10).reshape(2,-1)\n",
    "b = np.repeat(1, 10).reshape(2,-1)\n",
    "```"
   ]
  },
  {
   "cell_type": "code",
   "execution_count": 38,
   "metadata": {},
   "outputs": [
    {
     "data": {
      "text/plain": [
       "array([[0, 1, 2, 3, 4],\n",
       "       [5, 6, 7, 8, 9],\n",
       "       [1, 1, 1, 1, 1],\n",
       "       [1, 1, 1, 1, 1]])"
      ]
     },
     "execution_count": 38,
     "metadata": {},
     "output_type": "execute_result"
    }
   ],
   "source": [
    "a = np.arange(10).reshape(2,-1)\n",
    "b = np.repeat(1, 10).reshape(2,-1)\n",
    "\n",
    "np.vstack((a,b))"
   ]
  },
  {
   "cell_type": "markdown",
   "metadata": {},
   "source": [
    "## Ejercicio 9\n",
    "Concatena los siguientes arrays horizontamente\n",
    "\n",
    "```Python\n",
    "a = np.arange(10).reshape(2,-1)\n",
    "b = np.repeat(1, 10).reshape(2,-1)\n",
    "```"
   ]
  },
  {
   "cell_type": "code",
   "execution_count": 39,
   "metadata": {},
   "outputs": [
    {
     "data": {
      "text/plain": [
       "array([[0, 1, 2, 3, 4, 1, 1, 1, 1, 1],\n",
       "       [5, 6, 7, 8, 9, 1, 1, 1, 1, 1]])"
      ]
     },
     "execution_count": 39,
     "metadata": {},
     "output_type": "execute_result"
    }
   ],
   "source": [
    "a = np.arange(10).reshape(2,-1)\n",
    "b = np.repeat(1, 10).reshape(2,-1)\n",
    "\n",
    "np.hstack((a,b))"
   ]
  },
  {
   "cell_type": "markdown",
   "metadata": {},
   "source": [
    "## Ejercicio 10\n",
    "Encuentra todos los elementos en común entre ambos arrays. [Para ello usa la función `intersect1d`](https://numpy.org/doc/stable/reference/generated/numpy.intersect1d.html)\n",
    "\n",
    "```Python\n",
    "a = np.array([1,2,3,2,3,4,3,4,5,6])\n",
    "b = np.array([7,2,10,2,7,4,9,4,9,8])\n",
    "```"
   ]
  },
  {
   "cell_type": "code",
   "execution_count": 40,
   "metadata": {},
   "outputs": [
    {
     "data": {
      "text/plain": [
       "array([2, 4])"
      ]
     },
     "execution_count": 40,
     "metadata": {},
     "output_type": "execute_result"
    }
   ],
   "source": [
    "a = np.array([1,2,3,2,3,4,3,4,5,6])\n",
    "b = np.array([7,2,10,2,7,4,9,4,9,8])\n",
    "\n",
    "np.intersect1d(a, b, assume_unique=False, return_indices=False)"
   ]
  },
  {
   "cell_type": "markdown",
   "metadata": {},
   "source": [
    "## Ejercicio 11\n",
    "Obtén la documentación acerca de la función `concatenate`"
   ]
  },
  {
   "cell_type": "code",
   "execution_count": 42,
   "metadata": {},
   "outputs": [
    {
     "name": "stdout",
     "output_type": "stream",
     "text": [
      "Help on _ArrayFunctionDispatcher in module numpy:\n",
      "\n",
      "concatenate(...)\n",
      "    concatenate(\n",
      "        (a1, a2, ...),\n",
      "        axis=0,\n",
      "        out=None,\n",
      "        dtype=None,\n",
      "        casting=\"same_kind\"\n",
      "    )\n",
      "\n",
      "    Join a sequence of arrays along an existing axis.\n",
      "\n",
      "    Parameters\n",
      "    ----------\n",
      "    a1, a2, ... : sequence of array_like\n",
      "        The arrays must have the same shape, except in the dimension\n",
      "        corresponding to `axis` (the first, by default).\n",
      "    axis : int, optional\n",
      "        The axis along which the arrays will be joined.  If axis is None,\n",
      "        arrays are flattened before use.  Default is 0.\n",
      "    out : ndarray, optional\n",
      "        If provided, the destination to place the result. The shape must be\n",
      "        correct, matching that of what concatenate would have returned if no\n",
      "        out argument were specified.\n",
      "    dtype : str or dtype\n",
      "        If provided, the destination array will have this dtype. Cannot be\n",
      "        provided together with `out`.\n",
      "\n",
      "        .. versionadded:: 1.20.0\n",
      "\n",
      "    casting : {'no', 'equiv', 'safe', 'same_kind', 'unsafe'}, optional\n",
      "        Controls what kind of data casting may occur. Defaults to 'same_kind'.\n",
      "        For a description of the options, please see :term:`casting`.\n",
      "\n",
      "        .. versionadded:: 1.20.0\n",
      "\n",
      "    Returns\n",
      "    -------\n",
      "    res : ndarray\n",
      "        The concatenated array.\n",
      "\n",
      "    See Also\n",
      "    --------\n",
      "    ma.concatenate : Concatenate function that preserves input masks.\n",
      "    array_split : Split an array into multiple sub-arrays of equal or\n",
      "                  near-equal size.\n",
      "    split : Split array into a list of multiple sub-arrays of equal size.\n",
      "    hsplit : Split array into multiple sub-arrays horizontally (column wise).\n",
      "    vsplit : Split array into multiple sub-arrays vertically (row wise).\n",
      "    dsplit : Split array into multiple sub-arrays along the 3rd axis (depth).\n",
      "    stack : Stack a sequence of arrays along a new axis.\n",
      "    block : Assemble arrays from blocks.\n",
      "    hstack : Stack arrays in sequence horizontally (column wise).\n",
      "    vstack : Stack arrays in sequence vertically (row wise).\n",
      "    dstack : Stack arrays in sequence depth wise (along third dimension).\n",
      "    column_stack : Stack 1-D arrays as columns into a 2-D array.\n",
      "\n",
      "    Notes\n",
      "    -----\n",
      "    When one or more of the arrays to be concatenated is a MaskedArray,\n",
      "    this function will return a MaskedArray object instead of an ndarray,\n",
      "    but the input masks are *not* preserved. In cases where a MaskedArray\n",
      "    is expected as input, use the ma.concatenate function from the masked\n",
      "    array module instead.\n",
      "\n",
      "    Examples\n",
      "    --------\n",
      "    >>> import numpy as np\n",
      "    >>> a = np.array([[1, 2], [3, 4]])\n",
      "    >>> b = np.array([[5, 6]])\n",
      "    >>> np.concatenate((a, b), axis=0)\n",
      "    array([[1, 2],\n",
      "           [3, 4],\n",
      "           [5, 6]])\n",
      "    >>> np.concatenate((a, b.T), axis=1)\n",
      "    array([[1, 2, 5],\n",
      "           [3, 4, 6]])\n",
      "    >>> np.concatenate((a, b), axis=None)\n",
      "    array([1, 2, 3, 4, 5, 6])\n",
      "\n",
      "    This function will not preserve masking of MaskedArray inputs.\n",
      "\n",
      "    >>> a = np.ma.arange(3)\n",
      "    >>> a[1] = np.ma.masked\n",
      "    >>> b = np.arange(2, 5)\n",
      "    >>> a\n",
      "    masked_array(data=[0, --, 2],\n",
      "                 mask=[False,  True, False],\n",
      "           fill_value=999999)\n",
      "    >>> b\n",
      "    array([2, 3, 4])\n",
      "    >>> np.concatenate([a, b])\n",
      "    masked_array(data=[0, 1, 2, 2, 3, 4],\n",
      "                 mask=False,\n",
      "           fill_value=999999)\n",
      "    >>> np.ma.concatenate([a, b])\n",
      "    masked_array(data=[0, --, 2, 2, 3, 4],\n",
      "                 mask=[False,  True, False, False, False, False],\n",
      "           fill_value=999999)\n",
      "\n"
     ]
    }
   ],
   "source": [
    "help(np.concatenate)"
   ]
  },
  {
   "cell_type": "markdown",
   "metadata": {},
   "source": [
    "## Ejercicio 12\n",
    "Crea un array unidimensional que vaya del 0 al 9. Llámalo `my_array`. \n",
    "1. Multiplica cada uno de los elementos de `my_array` por 10, en un nuevo array\n",
    "2. Accede al primer elemento de `my_array`\n",
    "3. Accede al último elemento de `my_array`\n",
    "4. Imprime por pantalla los numeros del 1 al 7 de `my_array`"
   ]
  },
  {
   "cell_type": "code",
   "execution_count": 54,
   "metadata": {},
   "outputs": [
    {
     "name": "stdout",
     "output_type": "stream",
     "text": [
      "[0 1 2 3 4 5 6 7 8 9]\n",
      "[ 0 10 20 30 40 50 60 70 80 90]\n",
      "0\n",
      "9\n",
      "[1 2 3 4 5 6 7]\n"
     ]
    }
   ],
   "source": [
    "my_array = np.arange(0,10)\n",
    "print(my_array)\n",
    "\n",
    "my_array_10= my_array*10\n",
    "print(my_array_10)\n",
    "\n",
    "print(my_array[0])\n",
    "print(my_array[9])\n",
    "print(my_array[1:8])"
   ]
  },
  {
   "cell_type": "markdown",
   "metadata": {},
   "source": [
    "## Ejercicio 13\n",
    "Crea un array manualmente de tres filas por tres columnas. Llámalo `my_matrix`"
   ]
  },
  {
   "cell_type": "code",
   "execution_count": 56,
   "metadata": {},
   "outputs": [
    {
     "name": "stdout",
     "output_type": "stream",
     "text": [
      "[[69 32 43]\n",
      " [52 46 57]\n",
      " [44 48 69]]\n"
     ]
    }
   ],
   "source": [
    "my_matrix =np.random.randint(10,70, size=(3,3))\n",
    "print(my_matrix)"
   ]
  },
  {
   "cell_type": "markdown",
   "metadata": {},
   "source": [
    "## Ejercicio 14\n",
    "Obtén la siguiente secuencia:\n",
    "\n",
    "```Python\n",
    "[ 1,  4,  7, 10, 13, 16, 19, 22, 25, 28, 31, 34, 37, 40, 43, 46, 49]\n",
    "```"
   ]
  },
  {
   "cell_type": "code",
   "execution_count": 58,
   "metadata": {},
   "outputs": [
    {
     "name": "stdout",
     "output_type": "stream",
     "text": [
      "[ 1  4  7 10 13 16 19 22 25 28 31 34 37 40 43 46 49]\n"
     ]
    }
   ],
   "source": [
    "secuencia_1 = np.arange(1,50,3)\n",
    "print(secuencia_1)"
   ]
  },
  {
   "cell_type": "markdown",
   "metadata": {},
   "source": [
    "## Ejercicio 15\n",
    "Obtén la siguiente secuencia\n",
    "\n",
    "```Python\n",
    "[4., 3.75, 3.5 , 3.25, 3.  , 2.75, 2.5 , 2.25, 2., 1.75, 1.5 ,1.25]\n",
    "```"
   ]
  },
  {
   "cell_type": "code",
   "execution_count": 59,
   "metadata": {},
   "outputs": [
    {
     "name": "stdout",
     "output_type": "stream",
     "text": [
      "[4.   3.75 3.5  3.25 3.   2.75 2.5  2.25 2.   1.75 1.5  1.25]\n"
     ]
    }
   ],
   "source": [
    "secuencia_2 = np.arange(4,1,-0.25)\n",
    "print(secuencia_2)"
   ]
  },
  {
   "cell_type": "markdown",
   "metadata": {},
   "source": [
    "## Ejercicio 16\n",
    "Lee la imagen \"numpy.png\""
   ]
  },
  {
   "cell_type": "code",
   "execution_count": 79,
   "metadata": {},
   "outputs": [
    {
     "data": {
      "image/png": "[encoded data removed]",
      "text/plain": [
       "<Figure size 640x480 with 1 Axes>"
      ]
     },
     "metadata": {},
     "output_type": "display_data"
    },
    {
     "name": "stdout",
     "output_type": "stream",
     "text": [
      "<class 'numpy.ndarray'>\n",
      "(306, 765, 4)\n",
      "[[[0. 0. 0. 0.]\n",
      "  [0. 0. 0. 0.]\n",
      "  [0. 0. 0. 0.]\n",
      "  ...\n",
      "  [0. 0. 0. 0.]\n",
      "  [0. 0. 0. 0.]\n",
      "  [0. 0. 0. 0.]]\n",
      "\n",
      " [[0. 0. 0. 0.]\n",
      "  [0. 0. 0. 0.]\n",
      "  [0. 0. 0. 0.]\n",
      "  ...\n",
      "  [0. 0. 0. 0.]\n",
      "  [0. 0. 0. 0.]\n",
      "  [0. 0. 0. 0.]]\n",
      "\n",
      " [[0. 0. 0. 0.]\n",
      "  [0. 0. 0. 0.]\n",
      "  [0. 0. 0. 0.]\n",
      "  ...\n",
      "  [0. 0. 0. 0.]\n",
      "  [0. 0. 0. 0.]\n",
      "  [0. 0. 0. 0.]]\n",
      "\n",
      " ...\n",
      "\n",
      " [[0. 0. 0. 0.]\n",
      "  [0. 0. 0. 0.]\n",
      "  [0. 0. 0. 0.]\n",
      "  ...\n",
      "  [0. 0. 0. 0.]\n",
      "  [0. 0. 0. 0.]\n",
      "  [0. 0. 0. 0.]]\n",
      "\n",
      " [[0. 0. 0. 0.]\n",
      "  [0. 0. 0. 0.]\n",
      "  [0. 0. 0. 0.]\n",
      "  ...\n",
      "  [0. 0. 0. 0.]\n",
      "  [0. 0. 0. 0.]\n",
      "  [0. 0. 0. 0.]]\n",
      "\n",
      " [[0. 0. 0. 0.]\n",
      "  [0. 0. 0. 0.]\n",
      "  [0. 0. 0. 0.]\n",
      "  ...\n",
      "  [0. 0. 0. 0.]\n",
      "  [0. 0. 0. 0.]\n",
      "  [0. 0. 0. 0.]]]\n"
     ]
    }
   ],
   "source": [
    "import numpy as np\n",
    "import matplotlib.pyplot as plt\n",
    "\n",
    "img = plt.imread('img/numpy.png')\n",
    "\n",
    "plt.imshow(img)\n",
    "plt.axis('off')\n",
    "plt.show()\n",
    "print(type(img))  \n",
    "print(img.shape)  \n",
    "print(img)         "
   ]
  },
  {
   "cell_type": "markdown",
   "metadata": {},
   "source": [
    "## Ejercicio 17\n",
    "Crea un array de 4x1. A continuación convierte el array a un 2x2"
   ]
  },
  {
   "cell_type": "code",
   "execution_count": 60,
   "metadata": {},
   "outputs": [
    {
     "name": "stdout",
     "output_type": "stream",
     "text": [
      "[[60]\n",
      " [31]\n",
      " [28]\n",
      " [47]]\n",
      "[[60 31]\n",
      " [28 47]]\n"
     ]
    }
   ],
   "source": [
    "array_3 = np.random.randint(3,67,size=(4,1))\n",
    "print(array_3)\n",
    "\n",
    "array_4 = array_3.reshape(2,2)\n",
    "print(array_4)"
   ]
  },
  {
   "cell_type": "markdown",
   "metadata": {},
   "source": [
    "## Ejercicio 18\n",
    "Crea una secuencia aleatoria. La secuencia se tiene que componer de 4 matrices de 5x3. Serían 3 dimensiones diferentes."
   ]
  },
  {
   "cell_type": "code",
   "execution_count": 64,
   "metadata": {},
   "outputs": [
    {
     "name": "stdout",
     "output_type": "stream",
     "text": [
      "[[[0.87930623 0.67670286 0.39636104]\n",
      "  [0.7022636  0.78302672 0.1722693 ]\n",
      "  [0.75717242 0.16886308 0.8904088 ]\n",
      "  [0.68547773 0.71335036 0.9758099 ]\n",
      "  [0.54925702 0.28562105 0.97921812]]\n",
      "\n",
      " [[0.4364222  0.0302104  0.32728476]\n",
      "  [0.56802085 0.74133414 0.66522883]\n",
      "  [0.37902853 0.92977737 0.87618484]\n",
      "  [0.26389119 0.32589311 0.68085329]\n",
      "  [0.95364686 0.34816522 0.12082536]]\n",
      "\n",
      " [[0.98319138 0.13875492 0.06987901]\n",
      "  [0.35820058 0.23482606 0.76134888]\n",
      "  [0.57380192 0.51681502 0.91312786]\n",
      "  [0.96072531 0.38704964 0.12542433]\n",
      "  [0.66920426 0.20749965 0.38496841]]\n",
      "\n",
      " [[0.71748589 0.58720664 0.94306288]\n",
      "  [0.83013658 0.64676457 0.80130155]\n",
      "  [0.35928018 0.38662489 0.73583506]\n",
      "  [0.82665372 0.53240932 0.9150534 ]\n",
      "  [0.37317457 0.84139615 0.95147461]]]\n"
     ]
    }
   ],
   "source": [
    "array_5= np.random.rand(5,3)\n",
    "array_6 = np.random.rand(5,3)\n",
    "array_7 = np.random.rand(5,3)\n",
    "array_8 = np.random.rand(5,3)\n",
    "\n",
    "array_ex =np.array([array_5,array_6,array_7,array_8])\n",
    "print(array_ex)"
   ]
  },
  {
   "cell_type": "markdown",
   "metadata": {},
   "source": [
    "## Ejercicio 19\n",
    "Crea una matriz de 10x1, toda ella compuesta por `False`. Después transformalo en un 2x5"
   ]
  },
  {
   "cell_type": "code",
   "execution_count": 68,
   "metadata": {},
   "outputs": [
    {
     "name": "stdout",
     "output_type": "stream",
     "text": [
      "[[False]\n",
      " [False]\n",
      " [False]\n",
      " [False]\n",
      " [False]\n",
      " [False]\n",
      " [False]\n",
      " [False]\n",
      " [False]\n",
      " [False]]\n",
      "[[False False False False False]\n",
      " [False False False False False]]\n"
     ]
    }
   ],
   "source": [
    "matriz_fasle = np.full((10,1), False, dtype=bool)\n",
    "print(matriz_fasle)\n",
    "\n",
    "matriz_false= matriz_fasle.reshape(2,5)\n",
    "print(matriz_false)"
   ]
  },
  {
   "attachments": {},
   "cell_type": "markdown",
   "metadata": {},
   "source": [
    "## Ejercicio 20\n",
    "Dado el siguiente array\n",
    "\n",
    "```Python\n",
    "x = np.random.randint(10, 20, size = (5,2,6))\n",
    "```\n",
    "\n",
    "1. ¿Cuántos elementos tiene el array?\n",
    "2. ¿Cuántas dimensiones?\n",
    "3. ¿Cuánta es la longitud cada dimensión?"
   ]
  },
  {
   "cell_type": "code",
   "execution_count": 73,
   "metadata": {},
   "outputs": [
    {
     "name": "stdout",
     "output_type": "stream",
     "text": [
      "60\n",
      "3\n"
     ]
    }
   ],
   "source": [
    "#1) El array tiene 60 elementos, 5*2*6\n",
    "\n",
    "x = np.random.randint(10, 20, size = (5,2,6))\n",
    "print(x.size)\n",
    "\n",
    "#2) El array tiene 3 dimensiones\n",
    "\n",
    "print(x.ndim)\n",
    "\n",
    "#3) La longitud de la dimension es  5 para la primera,2 para la segunda y 6 para la tercera.\n"
   ]
  }
 ],
 "metadata": {
  "kernelspec": {
   "display_name": "Python 3",
   "language": "python",
   "name": "python3"
  },
  "language_info": {
   "codemirror_mode": {
    "name": "ipython",
    "version": 3
   },
   "file_extension": ".py",
   "mimetype": "text/x-python",
   "name": "python",
   "nbconvert_exporter": "python",
   "pygments_lexer": "ipython3",
   "version": "3.13.2"
  }
 },
 "nbformat": 4,
 "nbformat_minor": 4
}
