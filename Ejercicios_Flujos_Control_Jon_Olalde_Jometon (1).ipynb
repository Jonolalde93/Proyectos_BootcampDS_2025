{
 "cells": [
  {
   "cell_type": "markdown",
   "metadata": {},
   "source": [
    "![imagen](./img/ejercicios.png)"
   ]
  },
  {
   "cell_type": "markdown",
   "metadata": {},
   "source": [
    "# Ejercicios Flujos de control"
   ]
  },
  {
   "cell_type": "markdown",
   "metadata": {},
   "source": [
    "## Ejercicio 1\n",
    "Declara una variable numérica que será una hora cualquiera del día. Implementa la siguiente casuística:\n",
    "\n",
    "* Si es entre las 0 y las 8, print \"Durmiendo\"\n",
    "* Si es entre las 9 y las 18, print \"Trabajando\"\n",
    "* Si es entre las 19 y las 21, print \"Clase\"\n",
    "* Si es entre las 22 y las 24, print \"Descanso\"\n",
    "* En cualquier otro caso, print \"Transporte o error\""
   ]
  },
  {
   "cell_type": "code",
   "execution_count": null,
   "metadata": {},
   "outputs": [
    {
     "name": "stdout",
     "output_type": "stream",
     "text": [
      "Estoy en clase\n"
     ]
    }
   ],
   "source": [
    "hora = input(\"Introduce aqui la hora\")\n",
    "try:\n",
    "    if float(hora) >= 0 and float(hora) <= 8 :\n",
    "        print(\"Estoy durmiendo!\")\n",
    "    elif float(hora) >= 9 and float(hora) <= 18 :\n",
    "        print(\"Estoy en el curro!\")\n",
    "    elif float(hora) >= 19 and float(hora) <= 21 :\n",
    "        print(\"Estoy en clase!\")\n",
    "    elif float(hora) >= 22 and float(hora) <= 24 :\n",
    "        print(\"Estoy descansando!\")\n",
    "    else :\n",
    "        print(\"Estoy en el tranvía!\")\n",
    "except ValueError :\n",
    "    print(\"Error! El input no es valido\")"
   ]
  },
  {
   "cell_type": "markdown",
   "metadata": {},
   "source": [
    "## Ejercicio 2\n",
    "En este ejercicio vamos a implementar un calculador de precios de casas muy sencillo. Tenemos las siguientes variables:\n",
    "\n",
    "> superficie\n",
    ">\n",
    "> distrito\n",
    "\n",
    "Implementa la siguiente casuística:\n",
    "\n",
    "1. Si el distrito es \"Moncloa\" o \"Centro\", y además la superficie es superior a 100 metros cuadrados, el precio de la casa es de 1000\n",
    "2. Si el distrito es \"Salamanca\", y además la superficie de la casa es al menos de 150 metros, el precio de la casa es de 1500\n",
    "3. Si el distrito no es \"Retiro\" y la superficie está entre 60 y 80 metros, el precio es de 600\n",
    "4. En cualquier otro caso, el precio será de 0"
   ]
  },
  {
   "cell_type": "code",
   "execution_count": null,
   "metadata": {},
   "outputs": [
    {
     "name": "stdout",
     "output_type": "stream",
     "text": [
      "could not convert string to float: 'pepe' El valor no es valido!\n"
     ]
    }
   ],
   "source": [
    "superficie = input(\"Introduzca aqui la superficie del piso en m2\")\n",
    "distrito = input(\"Introduzca aqui el distrito de eleccion\")\n",
    "\n",
    "try :\n",
    "    if str(distrito) == \"Moncloa\" and str(distrito) == \"Centro\" and float(superficie) > 100 :\n",
    "        print(\"El precio de la casa es de unos 1000 euros\")\n",
    "    elif str(distrito) == \"Salamanca\" and float(superficie) >= 150 :\n",
    "        print(\"El precio de la casa es de  unos 1500 euros\")\n",
    "    elif str(distrito) != \"Retiro\" and float(superficie) > 60 and float(superficie) < 80 :\n",
    "        print(\"El precio es de unos 600 euros\")\n",
    "    else :\n",
    "        print(\"El precio es de 0 euros\")\n",
    "except Exception as Error:\n",
    "    print(Error, \"El valor es erroneo!\")"
   ]
  },
  {
   "cell_type": "markdown",
   "metadata": {},
   "source": [
    "## Ejercicio 3\n",
    "En este ejercicio vamos a realizar un programa muy parecido. Para este caso queremos que se cumplan las siguientes condiciones:\n",
    "\n",
    "1. Primero se compruebe si el distrito es \"Retiro\". Si es asá, que imprima \"Distrito Retiro\", y si no, \"Otro distrito\"\n",
    "2. Si el distrito es \"Retiro\", comprueba si la superficie es mayor de 100 metros cuadrados. En tal caso, que imprima un precio de 1000, y si no, de 500.\n",
    "\n",
    "Prueba a usar `ifs` anidados"
   ]
  },
  {
   "cell_type": "code",
   "execution_count": null,
   "metadata": {},
   "outputs": [
    {
     "name": "stdout",
     "output_type": "stream",
     "text": [
      "could not convert string to float: 'Moncloa' El valor es erroneo!\n"
     ]
    }
   ],
   "source": [
    "superficie = input(\"Introduzca aqui la superficie del piso en m2\")\n",
    "distrito = input(\"Introduzca aqui el distrito de eleccion\")\n",
    "\n",
    "try :\n",
    "    if str(distrito) == \"Retiro\" :\n",
    "        print(\"El distrito elegido es retiro\")\n",
    "        if float(superficie) > 100 :\n",
    "            print(\"El precio estimado es de unos 1000 euros\")\n",
    "        else :\n",
    "            print(\"El precio estimado es unos 500 euros\")\n",
    "    elif str(distrito) !=\"Retiro\":\n",
    "        if str(distrito) == \"Moncloa\" or str(distrito) == \"Centro\" and float(superficie) > 100 :\n",
    "            print(\"El precio de la casa es de unos 1000 euros\")\n",
    "        if str(distrito) == \"Salamanca\" and float(superficie) >= 150 :\n",
    "            print(\"El precio de la casa es de  unos 1500 euros\")\n",
    "        if str(distrito) != \"Retiro\" and float(superficie) > 60 and float(superficie) < 80 :\n",
    "            print(\"El precio es de unos 600 euros\")\n",
    "    else :\n",
    "        print(\"El precio es de 0 euros\")\n",
    "except Exception as Error:\n",
    "    print(Error, \"El valor es erroneo!\")"
   ]
  },
  {
   "cell_type": "markdown",
   "metadata": {},
   "source": [
    "## Ejercicio 4\n",
    "Escribe un programa que tenga dos variables: un numero, y una lista numérica. El programa debe recorrer la lista e imprimir por pantalla cada elemento de la lista multiplicado por el número"
   ]
  },
  {
   "cell_type": "code",
   "execution_count": 35,
   "metadata": {},
   "outputs": [
    {
     "name": "stdout",
     "output_type": "stream",
     "text": [
      "7.0\n",
      "10.5\n",
      "21.0\n",
      "273.0\n",
      "38.5\n",
      "150.5\n",
      "227.5\n",
      "80.5\n",
      "175.0\n"
     ]
    }
   ],
   "source": [
    "numero = 3.5\n",
    "variable_lista = [2,3,6,78,11,43,65,23,50]\n",
    "\n",
    "for elemento in variable_lista :\n",
    "    print(numero * elemento)"
   ]
  },
  {
   "cell_type": "markdown",
   "metadata": {},
   "source": [
    "## Ejercicio 5\n",
    "Imprime por pantalla cada número del -10 al -1. En ese orden. Consulta [la documentación](https://www.w3schools.com/python/ref_func_range.asp) de `range`"
   ]
  },
  {
   "cell_type": "code",
   "execution_count": 29,
   "metadata": {},
   "outputs": [
    {
     "name": "stdout",
     "output_type": "stream",
     "text": [
      "-10\n",
      "-9\n",
      "-8\n",
      "-7\n",
      "-6\n",
      "-5\n",
      "-4\n",
      "-3\n",
      "-2\n",
      "-1\n"
     ]
    }
   ],
   "source": [
    "lista = list(range(-10, 0))\n",
    "\n",
    "for numero in lista:\n",
    "    print(numero)"
   ]
  },
  {
   "cell_type": "markdown",
   "metadata": {},
   "source": [
    "## Ejercicio 6\n",
    "Dada la siguiente lista:\n",
    "\n",
    "> list1 = [12, 15, 32, 42, 55, 75, 122, 132, 150, 180, 200]\n",
    "\n",
    "Implementa un programa que los recorra e imprima por pantalla todos los divisibles por 5. Si nos encontramos con alguno que sea mayor que 150, detener el bucle."
   ]
  },
  {
   "cell_type": "code",
   "execution_count": 38,
   "metadata": {},
   "outputs": [
    {
     "name": "stdout",
     "output_type": "stream",
     "text": [
      "15\n",
      "55\n",
      "75\n",
      "150\n"
     ]
    }
   ],
   "source": [
    "list1 = [12, 15,32,42,55,75,122,132,150,180,200]\n",
    "\n",
    "for elemento in list1 :\n",
    "    if elemento%5 == 0:\n",
    "        print(elemento)\n",
    "    if elemento >= 150:\n",
    "        break\n",
    "    else :\n",
    "        continue"
   ]
  },
  {
   "attachments": {},
   "cell_type": "markdown",
   "metadata": {},
   "source": [
    "## Ejercicio 7\n",
    "Escribe un programa en Python que imprima por pantalla todos los números que cumplan que sean divisibles por 5 y divisibles por 7, dentro del rango de valores (150, 350)."
   ]
  },
  {
   "cell_type": "code",
   "execution_count": 43,
   "metadata": {},
   "outputs": [
    {
     "name": "stdout",
     "output_type": "stream",
     "text": [
      "175\n",
      "210\n",
      "245\n",
      "280\n",
      "315\n"
     ]
    }
   ],
   "source": [
    "numeros = list(range(150,350))\n",
    "\n",
    "for elementos in numeros :\n",
    "    if elementos%5 == 0 and elementos%7 == 0 :\n",
    "        print(elementos)"
   ]
  },
  {
   "cell_type": "markdown",
   "metadata": {},
   "source": [
    "## Ejercicio 8\n",
    "Implementa un programa que imprima por pantalla el siguiente patrón\n",
    "\n",
    "5 4 3 2 1 \n",
    "\n",
    "4 3 2 1 \n",
    "\n",
    "3 2 1 \n",
    "\n",
    "2 1 \n",
    "\n",
    "1\n",
    "\n",
    "NOTA: NO hay lineas en blanco entre una línea y otra."
   ]
  },
  {
   "cell_type": "code",
   "execution_count": 25,
   "metadata": {},
   "outputs": [
    {
     "name": "stdout",
     "output_type": "stream",
     "text": [
      "[5, 4, 3, 2, 1]\n",
      "[4, 3, 2, 1]\n",
      "[3, 2, 1]\n",
      "[2, 1]\n",
      "[1]\n"
     ]
    }
   ],
   "source": [
    "lista_numero = [5,4,3,2,1]\n",
    "index = 0\n",
    "for elemento in lista_numero :\n",
    "    print(lista_numero[index:])\n",
    "    index = index + 1"
   ]
  },
  {
   "cell_type": "markdown",
   "metadata": {},
   "source": [
    "## Ejercicio 9\n",
    "En este ejercicio vamos a crear un pequeño juego. Se trata de intentar adivinar un numero del 1 al 5. Tenemos dos intentos para acertar. Pasos a seguir:\n",
    "\n",
    "1. Ya viene implementado con la librería `random` cómo obtener un número aleatorio del 1 al 5\n",
    "2. Tendrás que declarar en una variable el numero de vidas, y mediante un bucle while, comprobar que todavia quedan vidas.\n",
    "3. Dentro del bucle, obtener el valor del usuario y comprobar si es ese el numero a adivinar. Si no, actualizar las vidas.\n",
    "4. Si acertamos, salimos del bucle e imprimimos por pantalla \"You win\". Y si perdemos también salimos del bucle, pero en este caso imprimimos por pantalla \"You lose\".\n",
    "\n",
    "TIP: te puede resultar útil usar la sentencia `else` cuando acabe el bucle `while`. Lo que haya dentro de ese `else` se ejecutará una vez acabe la ejecución del `while`. Lo podrás usar para cuando pierdas."
   ]
  },
  {
   "cell_type": "code",
   "execution_count": 28,
   "metadata": {},
   "outputs": [
    {
     "name": "stdout",
     "output_type": "stream",
     "text": [
      "Enhorabuena has ganado! Has ganado una vida extra!\n",
      "5\n",
      "Oh oh, perdiste una vida :(\n",
      "4\n",
      "Oh oh, perdiste una vida :(\n",
      "5\n",
      "Oh oh, perdiste una vida :(\n",
      "Se acabaron los intentos, introduce una moneda para volver a jugar :D\n"
     ]
    }
   ],
   "source": [
    "import random\n",
    "\n",
    "'''\n",
    "Me apetecia salsear un poco y complicar un poco mas el ejercicio\n",
    "Asi que he añadido una linea para que cada intentona se rerollee el dado y asi el juego se trate de adivinar el numero a la primera, \n",
    "Ademas por cada acierto se gana una vida mas para poder seguir jugando\n",
    "'''\n",
    "\n",
    "vidas = 2\n",
    "loteria = random.randint(1, 5)\n",
    "while vidas != 0 :\n",
    "    adivinar = input(\"Selecciona un número del 1 al 5\")\n",
    "    if int(adivinar) == loteria :\n",
    "        print(\"Enhorabuena has ganado! Has ganado una vida extra!\")\n",
    "        vidas = vidas + 1\n",
    "        loteria = random.randint(1, 5)\n",
    "    else :\n",
    "        vidas = vidas - 1\n",
    "        print(loteria)\n",
    "        print(\"Oh oh, perdiste una vida :(\")\n",
    "        loteria = random.randint(1, 5)\n",
    "else:\n",
    "    print(\"Se acabaron los intentos, introduce una moneda para volver a jugar :D\")\n"
   ]
  }
 ],
 "metadata": {
  "kernelspec": {
   "display_name": "Python 3",
   "language": "python",
   "name": "python3"
  },
  "language_info": {
   "codemirror_mode": {
    "name": "ipython",
    "version": 3
   },
   "file_extension": ".py",
   "mimetype": "text/x-python",
   "name": "python",
   "nbconvert_exporter": "python",
   "pygments_lexer": "ipython3",
   "version": "3.13.2"
  }
 },
 "nbformat": 4,
 "nbformat_minor": 4
}
